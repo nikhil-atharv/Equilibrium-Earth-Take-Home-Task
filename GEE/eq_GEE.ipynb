{
 "cells": [
  {
   "cell_type": "markdown",
   "id": "74aec028",
   "metadata": {},
   "source": [
    "Importing Earth Engine Python API library and geemap for visualisation"
   ]
  },
  {
   "cell_type": "code",
   "execution_count": 1,
   "id": "59add7e1",
   "metadata": {},
   "outputs": [
    {
     "name": "stderr",
     "output_type": "stream",
     "text": [
      "c:\\Users\\NIKHIL\\anaconda3\\envs\\nikhil_geospatial\\Lib\\site-packages\\geemap\\conversion.py:23: UserWarning: pkg_resources is deprecated as an API. See https://setuptools.pypa.io/en/latest/pkg_resources.html. The pkg_resources package is slated for removal as early as 2025-11-30. Refrain from using this package or pin to Setuptools<81.\n",
      "  import pkg_resources\n"
     ]
    }
   ],
   "source": [
    "import ee\n",
    "import geemap"
   ]
  },
  {
   "cell_type": "markdown",
   "id": "f009f9df",
   "metadata": {},
   "source": [
    "Authenticate and initialize the Earth Engine service"
   ]
  },
  {
   "cell_type": "code",
   "execution_count": 2,
   "id": "90e9ad89",
   "metadata": {},
   "outputs": [
    {
     "data": {
      "text/html": [
       "\n",
       "            <style>\n",
       "                .geemap-dark {\n",
       "                    --jp-widgets-color: white;\n",
       "                    --jp-widgets-label-color: white;\n",
       "                    --jp-ui-font-color1: white;\n",
       "                    --jp-layout-color2: #454545;\n",
       "                    background-color: #383838;\n",
       "                }\n",
       "\n",
       "                .geemap-dark .jupyter-button {\n",
       "                    --jp-layout-color3: #383838;\n",
       "                }\n",
       "\n",
       "                .geemap-colab {\n",
       "                    background-color: var(--colab-primary-surface-color, white);\n",
       "                }\n",
       "\n",
       "                .geemap-colab .jupyter-button {\n",
       "                    --jp-layout-color3: var(--colab-primary-surface-color, white);\n",
       "                }\n",
       "            </style>\n",
       "            "
      ],
      "text/plain": [
       "<IPython.core.display.HTML object>"
      ]
     },
     "metadata": {},
     "output_type": "display_data"
    },
    {
     "name": "stderr",
     "output_type": "stream",
     "text": [
      "*** Earth Engine *** Share your feedback by taking our Annual Developer Satisfaction Survey: https://google.qualtrics.com/jfe/form/SV_7TDKVSyKvBdmMqW?ref=4i2o6\n"
     ]
    }
   ],
   "source": [
    "ee.Authenticate()\n",
    "ee.Initialize(project = 'ee-my-nikhil')"
   ]
  },
  {
   "cell_type": "markdown",
   "id": "60cf0219",
   "metadata": {},
   "source": [
    "Importing parcels file from Earth Engine Assets Catalog after uploading "
   ]
  },
  {
   "cell_type": "code",
   "execution_count": 3,
   "id": "cf4a2d37",
   "metadata": {},
   "outputs": [
    {
     "data": {
      "text/html": [
       "\n",
       "            <style>\n",
       "                .geemap-dark {\n",
       "                    --jp-widgets-color: white;\n",
       "                    --jp-widgets-label-color: white;\n",
       "                    --jp-ui-font-color1: white;\n",
       "                    --jp-layout-color2: #454545;\n",
       "                    background-color: #383838;\n",
       "                }\n",
       "\n",
       "                .geemap-dark .jupyter-button {\n",
       "                    --jp-layout-color3: #383838;\n",
       "                }\n",
       "\n",
       "                .geemap-colab {\n",
       "                    background-color: var(--colab-primary-surface-color, white);\n",
       "                }\n",
       "\n",
       "                .geemap-colab .jupyter-button {\n",
       "                    --jp-layout-color3: var(--colab-primary-surface-color, white);\n",
       "                }\n",
       "            </style>\n",
       "            "
      ],
      "text/plain": [
       "<IPython.core.display.HTML object>"
      ]
     },
     "metadata": {},
     "output_type": "display_data"
    }
   ],
   "source": [
    "roi = ee.FeatureCollection('projects/ee-my-nikhil/assets/parcels')"
   ]
  },
  {
   "cell_type": "markdown",
   "id": "b9dc4ab8",
   "metadata": {},
   "source": [
    "Linking Cloud Score + cs_cdf band to sentinel L2A Lcollection, \n",
    "\n",
    "Filtering the Image Collection to ROI and Date, \n",
    "\n",
    "Cloud Masking with cs_cdf band of cloud Score + "
   ]
  },
  {
   "cell_type": "code",
   "execution_count": 4,
   "id": "1deaad4e",
   "metadata": {},
   "outputs": [
    {
     "data": {
      "text/html": [
       "\n",
       "            <style>\n",
       "                .geemap-dark {\n",
       "                    --jp-widgets-color: white;\n",
       "                    --jp-widgets-label-color: white;\n",
       "                    --jp-ui-font-color1: white;\n",
       "                    --jp-layout-color2: #454545;\n",
       "                    background-color: #383838;\n",
       "                }\n",
       "\n",
       "                .geemap-dark .jupyter-button {\n",
       "                    --jp-layout-color3: #383838;\n",
       "                }\n",
       "\n",
       "                .geemap-colab {\n",
       "                    background-color: var(--colab-primary-surface-color, white);\n",
       "                }\n",
       "\n",
       "                .geemap-colab .jupyter-button {\n",
       "                    --jp-layout-color3: var(--colab-primary-surface-color, white);\n",
       "                }\n",
       "            </style>\n",
       "            "
      ],
      "text/plain": [
       "<IPython.core.display.HTML object>"
      ]
     },
     "metadata": {},
     "output_type": "display_data"
    }
   ],
   "source": [
    "cs = ee.ImageCollection(\"GOOGLE/CLOUD_SCORE_PLUS/V1/S2_HARMONIZED\")\n",
    "\n",
    "s2 = ee.ImageCollection(\"COPERNICUS/S2_SR_HARMONIZED\")\\\n",
    "    .filterDate('2025-05-01', '2025-09-24')\\\n",
    "    .filterBounds(roi)\\\n",
    "    .filter(ee.Filter.lt('CLOUDY_PIXEL_PERCENTAGE', 10))\\\n",
    "    .select(['B.*'])\\\n",
    "    .linkCollection(cs, ['cs_cdf'])\n",
    "\n",
    "def cloud_masking(image):\n",
    "    return image.updateMask(image.select(['cs_cdf']).gte(0.60))\n",
    "\n",
    "image = s2.map(cloud_masking)"
   ]
  },
  {
   "cell_type": "markdown",
   "id": "da4dcd32",
   "metadata": {},
   "source": [
    "checking original nominal scale (resolution) of sentinel"
   ]
  },
  {
   "cell_type": "code",
   "execution_count": 5,
   "id": "f7ba87db",
   "metadata": {},
   "outputs": [
    {
     "data": {
      "text/html": [
       "\n",
       "            <style>\n",
       "                .geemap-dark {\n",
       "                    --jp-widgets-color: white;\n",
       "                    --jp-widgets-label-color: white;\n",
       "                    --jp-ui-font-color1: white;\n",
       "                    --jp-layout-color2: #454545;\n",
       "                    background-color: #383838;\n",
       "                }\n",
       "\n",
       "                .geemap-dark .jupyter-button {\n",
       "                    --jp-layout-color3: #383838;\n",
       "                }\n",
       "\n",
       "                .geemap-colab {\n",
       "                    background-color: var(--colab-primary-surface-color, white);\n",
       "                }\n",
       "\n",
       "                .geemap-colab .jupyter-button {\n",
       "                    --jp-layout-color3: var(--colab-primary-surface-color, white);\n",
       "                }\n",
       "            </style>\n",
       "            "
      ],
      "text/plain": [
       "<IPython.core.display.HTML object>"
      ]
     },
     "metadata": {},
     "output_type": "display_data"
    },
    {
     "data": {
      "text/html": [
       "<div><style>:root {\n",
       "  --font-color-primary: var(--jp-content-font-color0, rgba(0, 0, 0, 1));\n",
       "  --font-color-secondary: var(--jp-content-font-color2, rgba(0, 0, 0, 0.7));\n",
       "  --font-color-accent: rgba(123, 31, 162, 1);\n",
       "  --border-color: var(--jp-border-color2, #e0e0e0);\n",
       "  --background-color: var(--jp-layout-color0, white);\n",
       "  --background-color-row-even: var(--jp-layout-color1, white);\n",
       "  --background-color-row-odd: var(--jp-layout-color2, #eeeeee);\n",
       "}\n",
       "\n",
       "html[theme=\"dark\"],\n",
       "body[data-theme=\"dark\"],\n",
       "body.vscode-dark {\n",
       "  --font-color-primary: rgba(255, 255, 255, 1);\n",
       "  --font-color-secondary: rgba(255, 255, 255, 0.7);\n",
       "  --font-color-accent: rgb(173, 132, 190);\n",
       "  --border-color: #2e2e2e;\n",
       "  --background-color: #111111;\n",
       "  --background-color-row-even: #111111;\n",
       "  --background-color-row-odd: #313131;\n",
       "}\n",
       "\n",
       ".eerepr {\n",
       "  padding: 1em;\n",
       "  line-height: 1.5em;\n",
       "  min-width: 300px;\n",
       "  max-width: 1200px;\n",
       "  overflow-y: scroll;\n",
       "  max-height: 600px;\n",
       "  border: 1px solid var(--border-color);\n",
       "  font-family: monospace;\n",
       "  font-size: 14px;\n",
       "}\n",
       "\n",
       ".eerepr li {\n",
       "  list-style-type: none;\n",
       "  margin: 0;\n",
       "}\n",
       "\n",
       ".eerepr ul {\n",
       "  padding-left: 1.5em !important;\n",
       "  margin: 0;\n",
       "}\n",
       "\n",
       ".eerepr > ul {\n",
       "  padding-left: 0 !important;\n",
       "}\n",
       "\n",
       ".eerepr summary {\n",
       "  color: var(--font-color-secondary);\n",
       "  cursor: pointer;\n",
       "  margin: 0;\n",
       "}\n",
       "\n",
       ".eerepr summary:hover {\n",
       "  color: var(--font-color-primary);\n",
       "  background-color: var(--background-color-row-odd)\n",
       "}\n",
       "\n",
       ".ee-k {\n",
       "  color: var(--font-color-accent);\n",
       "  margin-right: 6px;\n",
       "}\n",
       "\n",
       ".ee-v {\n",
       "  color: var(--font-color-primary);\n",
       "}\n",
       "\n",
       ".eerepr details > summary::before {\n",
       "  content: '▼';\n",
       "  display: inline-block;\n",
       "  margin-right: 6px;\n",
       "  transition: transform 0.2s;\n",
       "  transform: rotate(-90deg);\n",
       "}\n",
       "\n",
       ".eerepr details[open] > summary::before {\n",
       "  transform: rotate(0deg);\n",
       "}\n",
       "\n",
       ".eerepr details summary::-webkit-details-marker {\n",
       "  display:none;\n",
       "}\n",
       "\n",
       ".eerepr details summary {\n",
       "  list-style-type: none;\n",
       "}\n",
       "</style><div class='eerepr'><ul><li><details><summary>Projection</summary><ul><li><span class='ee-k'>type:</span><span class='ee-v'>Projection</span></li><li><span class='ee-k'>crs:</span><span class='ee-v'>EPSG:32644</span></li><li><details><summary>transform: [10, 0, 399960, 0, -10, 2500020]</summary><ul><li><span class='ee-k'>0:</span><span class='ee-v'>10</span></li><li><span class='ee-k'>1:</span><span class='ee-v'>0</span></li><li><span class='ee-k'>2:</span><span class='ee-v'>399960</span></li><li><span class='ee-k'>3:</span><span class='ee-v'>0</span></li><li><span class='ee-k'>4:</span><span class='ee-v'>-10</span></li><li><span class='ee-k'>5:</span><span class='ee-v'>2500020</span></li></ul></details></li></ul></details></li></ul></div></div>"
      ],
      "text/plain": [
       "<ee.projection.Projection at 0x285e80cef90>"
      ]
     },
     "metadata": {},
     "output_type": "display_data"
    }
   ],
   "source": [
    "display(image.first().select(['B4']).projection())"
   ]
  },
  {
   "cell_type": "markdown",
   "id": "5d8c4623",
   "metadata": {},
   "source": [
    "function to increase the resolutoin with resampling (bilinear) and reprojecting,\n",
    "\n",
    "Applying resampling function to image collection\n",
    "\n",
    "check the nominal scale after resampling"
   ]
  },
  {
   "cell_type": "code",
   "execution_count": 6,
   "id": "af0b3886",
   "metadata": {},
   "outputs": [
    {
     "data": {
      "text/html": [
       "\n",
       "            <style>\n",
       "                .geemap-dark {\n",
       "                    --jp-widgets-color: white;\n",
       "                    --jp-widgets-label-color: white;\n",
       "                    --jp-ui-font-color1: white;\n",
       "                    --jp-layout-color2: #454545;\n",
       "                    background-color: #383838;\n",
       "                }\n",
       "\n",
       "                .geemap-dark .jupyter-button {\n",
       "                    --jp-layout-color3: #383838;\n",
       "                }\n",
       "\n",
       "                .geemap-colab {\n",
       "                    background-color: var(--colab-primary-surface-color, white);\n",
       "                }\n",
       "\n",
       "                .geemap-colab .jupyter-button {\n",
       "                    --jp-layout-color3: var(--colab-primary-surface-color, white);\n",
       "                }\n",
       "            </style>\n",
       "            "
      ],
      "text/plain": [
       "<IPython.core.display.HTML object>"
      ]
     },
     "metadata": {},
     "output_type": "display_data"
    },
    {
     "data": {
      "text/html": [
       "<div><style>:root {\n",
       "  --font-color-primary: var(--jp-content-font-color0, rgba(0, 0, 0, 1));\n",
       "  --font-color-secondary: var(--jp-content-font-color2, rgba(0, 0, 0, 0.7));\n",
       "  --font-color-accent: rgba(123, 31, 162, 1);\n",
       "  --border-color: var(--jp-border-color2, #e0e0e0);\n",
       "  --background-color: var(--jp-layout-color0, white);\n",
       "  --background-color-row-even: var(--jp-layout-color1, white);\n",
       "  --background-color-row-odd: var(--jp-layout-color2, #eeeeee);\n",
       "}\n",
       "\n",
       "html[theme=\"dark\"],\n",
       "body[data-theme=\"dark\"],\n",
       "body.vscode-dark {\n",
       "  --font-color-primary: rgba(255, 255, 255, 1);\n",
       "  --font-color-secondary: rgba(255, 255, 255, 0.7);\n",
       "  --font-color-accent: rgb(173, 132, 190);\n",
       "  --border-color: #2e2e2e;\n",
       "  --background-color: #111111;\n",
       "  --background-color-row-even: #111111;\n",
       "  --background-color-row-odd: #313131;\n",
       "}\n",
       "\n",
       ".eerepr {\n",
       "  padding: 1em;\n",
       "  line-height: 1.5em;\n",
       "  min-width: 300px;\n",
       "  max-width: 1200px;\n",
       "  overflow-y: scroll;\n",
       "  max-height: 600px;\n",
       "  border: 1px solid var(--border-color);\n",
       "  font-family: monospace;\n",
       "  font-size: 14px;\n",
       "}\n",
       "\n",
       ".eerepr li {\n",
       "  list-style-type: none;\n",
       "  margin: 0;\n",
       "}\n",
       "\n",
       ".eerepr ul {\n",
       "  padding-left: 1.5em !important;\n",
       "  margin: 0;\n",
       "}\n",
       "\n",
       ".eerepr > ul {\n",
       "  padding-left: 0 !important;\n",
       "}\n",
       "\n",
       ".eerepr summary {\n",
       "  color: var(--font-color-secondary);\n",
       "  cursor: pointer;\n",
       "  margin: 0;\n",
       "}\n",
       "\n",
       ".eerepr summary:hover {\n",
       "  color: var(--font-color-primary);\n",
       "  background-color: var(--background-color-row-odd)\n",
       "}\n",
       "\n",
       ".ee-k {\n",
       "  color: var(--font-color-accent);\n",
       "  margin-right: 6px;\n",
       "}\n",
       "\n",
       ".ee-v {\n",
       "  color: var(--font-color-primary);\n",
       "}\n",
       "\n",
       ".eerepr details > summary::before {\n",
       "  content: '▼';\n",
       "  display: inline-block;\n",
       "  margin-right: 6px;\n",
       "  transition: transform 0.2s;\n",
       "  transform: rotate(-90deg);\n",
       "}\n",
       "\n",
       ".eerepr details[open] > summary::before {\n",
       "  transform: rotate(0deg);\n",
       "}\n",
       "\n",
       ".eerepr details summary::-webkit-details-marker {\n",
       "  display:none;\n",
       "}\n",
       "\n",
       ".eerepr details summary {\n",
       "  list-style-type: none;\n",
       "}\n",
       "</style><div class='eerepr'><ul><li><span class='ee-v'>1</span></li></ul></div></div>"
      ],
      "text/plain": [
       "<ee.ee_number.Number at 0x285e82423f0>"
      ]
     },
     "metadata": {},
     "output_type": "display_data"
    }
   ],
   "source": [
    "def resampling(image):\n",
    "\n",
    "    return image.resample('bilinear').reproject(\n",
    "        'EPSG: 32644',\n",
    "        None,\n",
    "        1\n",
    "    )\n",
    "\n",
    "resampled = image.map(resampling)\n",
    "display(resampled.first().select(['B4']).projection().nominalScale())\n"
   ]
  },
  {
   "cell_type": "markdown",
   "id": "1c469328",
   "metadata": {},
   "source": [
    "Creating a Medain Composite of resampled Image and applying scale value of 0.0001 to get actual reflactance values"
   ]
  },
  {
   "cell_type": "code",
   "execution_count": 7,
   "id": "9d768bbd",
   "metadata": {},
   "outputs": [
    {
     "data": {
      "text/html": [
       "\n",
       "            <style>\n",
       "                .geemap-dark {\n",
       "                    --jp-widgets-color: white;\n",
       "                    --jp-widgets-label-color: white;\n",
       "                    --jp-ui-font-color1: white;\n",
       "                    --jp-layout-color2: #454545;\n",
       "                    background-color: #383838;\n",
       "                }\n",
       "\n",
       "                .geemap-dark .jupyter-button {\n",
       "                    --jp-layout-color3: #383838;\n",
       "                }\n",
       "\n",
       "                .geemap-colab {\n",
       "                    background-color: var(--colab-primary-surface-color, white);\n",
       "                }\n",
       "\n",
       "                .geemap-colab .jupyter-button {\n",
       "                    --jp-layout-color3: var(--colab-primary-surface-color, white);\n",
       "                }\n",
       "            </style>\n",
       "            "
      ],
      "text/plain": [
       "<IPython.core.display.HTML object>"
      ]
     },
     "metadata": {},
     "output_type": "display_data"
    },
    {
     "data": {
      "text/html": [
       "<div><style>:root {\n",
       "  --font-color-primary: var(--jp-content-font-color0, rgba(0, 0, 0, 1));\n",
       "  --font-color-secondary: var(--jp-content-font-color2, rgba(0, 0, 0, 0.7));\n",
       "  --font-color-accent: rgba(123, 31, 162, 1);\n",
       "  --border-color: var(--jp-border-color2, #e0e0e0);\n",
       "  --background-color: var(--jp-layout-color0, white);\n",
       "  --background-color-row-even: var(--jp-layout-color1, white);\n",
       "  --background-color-row-odd: var(--jp-layout-color2, #eeeeee);\n",
       "}\n",
       "\n",
       "html[theme=\"dark\"],\n",
       "body[data-theme=\"dark\"],\n",
       "body.vscode-dark {\n",
       "  --font-color-primary: rgba(255, 255, 255, 1);\n",
       "  --font-color-secondary: rgba(255, 255, 255, 0.7);\n",
       "  --font-color-accent: rgb(173, 132, 190);\n",
       "  --border-color: #2e2e2e;\n",
       "  --background-color: #111111;\n",
       "  --background-color-row-even: #111111;\n",
       "  --background-color-row-odd: #313131;\n",
       "}\n",
       "\n",
       ".eerepr {\n",
       "  padding: 1em;\n",
       "  line-height: 1.5em;\n",
       "  min-width: 300px;\n",
       "  max-width: 1200px;\n",
       "  overflow-y: scroll;\n",
       "  max-height: 600px;\n",
       "  border: 1px solid var(--border-color);\n",
       "  font-family: monospace;\n",
       "  font-size: 14px;\n",
       "}\n",
       "\n",
       ".eerepr li {\n",
       "  list-style-type: none;\n",
       "  margin: 0;\n",
       "}\n",
       "\n",
       ".eerepr ul {\n",
       "  padding-left: 1.5em !important;\n",
       "  margin: 0;\n",
       "}\n",
       "\n",
       ".eerepr > ul {\n",
       "  padding-left: 0 !important;\n",
       "}\n",
       "\n",
       ".eerepr summary {\n",
       "  color: var(--font-color-secondary);\n",
       "  cursor: pointer;\n",
       "  margin: 0;\n",
       "}\n",
       "\n",
       ".eerepr summary:hover {\n",
       "  color: var(--font-color-primary);\n",
       "  background-color: var(--background-color-row-odd)\n",
       "}\n",
       "\n",
       ".ee-k {\n",
       "  color: var(--font-color-accent);\n",
       "  margin-right: 6px;\n",
       "}\n",
       "\n",
       ".ee-v {\n",
       "  color: var(--font-color-primary);\n",
       "}\n",
       "\n",
       ".eerepr details > summary::before {\n",
       "  content: '▼';\n",
       "  display: inline-block;\n",
       "  margin-right: 6px;\n",
       "  transition: transform 0.2s;\n",
       "  transform: rotate(-90deg);\n",
       "}\n",
       "\n",
       ".eerepr details[open] > summary::before {\n",
       "  transform: rotate(0deg);\n",
       "}\n",
       "\n",
       ".eerepr details summary::-webkit-details-marker {\n",
       "  display:none;\n",
       "}\n",
       "\n",
       ".eerepr details summary {\n",
       "  list-style-type: none;\n",
       "}\n",
       "</style><div class='eerepr'><ul><li><details><summary>Image (13 bands)</summary><ul><li><span class='ee-k'>type:</span><span class='ee-v'>Image</span></li><li><details><summary>bands: List (13 elements)</summary><ul><li><details><summary>0: \"B1\", double, EPSG:4326</summary><ul><li><span class='ee-k'>id:</span><span class='ee-v'>B1</span></li><li><span class='ee-k'>crs:</span><span class='ee-v'>EPSG:4326</span></li><li><details><summary>crs_transform: [1, 0, 0, 0, 1, 0]</summary><ul><li><span class='ee-k'>0:</span><span class='ee-v'>1</span></li><li><span class='ee-k'>1:</span><span class='ee-v'>0</span></li><li><span class='ee-k'>2:</span><span class='ee-v'>0</span></li><li><span class='ee-k'>3:</span><span class='ee-v'>0</span></li><li><span class='ee-k'>4:</span><span class='ee-v'>1</span></li><li><span class='ee-k'>5:</span><span class='ee-v'>0</span></li></ul></details></li><li><details><summary>data_type: double</summary><ul><li><span class='ee-k'>type:</span><span class='ee-v'>PixelType</span></li><li><span class='ee-k'>max:</span><span class='ee-v'>6.5535000000000005</span></li><li><span class='ee-k'>min:</span><span class='ee-v'>0</span></li><li><span class='ee-k'>precision:</span><span class='ee-v'>double</span></li></ul></details></li></ul></details></li><li><details><summary>1: \"B2\", double, EPSG:4326</summary><ul><li><span class='ee-k'>id:</span><span class='ee-v'>B2</span></li><li><span class='ee-k'>crs:</span><span class='ee-v'>EPSG:4326</span></li><li><details><summary>crs_transform: [1, 0, 0, 0, 1, 0]</summary><ul><li><span class='ee-k'>0:</span><span class='ee-v'>1</span></li><li><span class='ee-k'>1:</span><span class='ee-v'>0</span></li><li><span class='ee-k'>2:</span><span class='ee-v'>0</span></li><li><span class='ee-k'>3:</span><span class='ee-v'>0</span></li><li><span class='ee-k'>4:</span><span class='ee-v'>1</span></li><li><span class='ee-k'>5:</span><span class='ee-v'>0</span></li></ul></details></li><li><details><summary>data_type: double</summary><ul><li><span class='ee-k'>type:</span><span class='ee-v'>PixelType</span></li><li><span class='ee-k'>max:</span><span class='ee-v'>6.5535000000000005</span></li><li><span class='ee-k'>min:</span><span class='ee-v'>0</span></li><li><span class='ee-k'>precision:</span><span class='ee-v'>double</span></li></ul></details></li></ul></details></li><li><details><summary>2: \"B3\", double, EPSG:4326</summary><ul><li><span class='ee-k'>id:</span><span class='ee-v'>B3</span></li><li><span class='ee-k'>crs:</span><span class='ee-v'>EPSG:4326</span></li><li><details><summary>crs_transform: [1, 0, 0, 0, 1, 0]</summary><ul><li><span class='ee-k'>0:</span><span class='ee-v'>1</span></li><li><span class='ee-k'>1:</span><span class='ee-v'>0</span></li><li><span class='ee-k'>2:</span><span class='ee-v'>0</span></li><li><span class='ee-k'>3:</span><span class='ee-v'>0</span></li><li><span class='ee-k'>4:</span><span class='ee-v'>1</span></li><li><span class='ee-k'>5:</span><span class='ee-v'>0</span></li></ul></details></li><li><details><summary>data_type: double</summary><ul><li><span class='ee-k'>type:</span><span class='ee-v'>PixelType</span></li><li><span class='ee-k'>max:</span><span class='ee-v'>6.5535000000000005</span></li><li><span class='ee-k'>min:</span><span class='ee-v'>0</span></li><li><span class='ee-k'>precision:</span><span class='ee-v'>double</span></li></ul></details></li></ul></details></li><li><details><summary>3: \"B4\", double, EPSG:4326</summary><ul><li><span class='ee-k'>id:</span><span class='ee-v'>B4</span></li><li><span class='ee-k'>crs:</span><span class='ee-v'>EPSG:4326</span></li><li><details><summary>crs_transform: [1, 0, 0, 0, 1, 0]</summary><ul><li><span class='ee-k'>0:</span><span class='ee-v'>1</span></li><li><span class='ee-k'>1:</span><span class='ee-v'>0</span></li><li><span class='ee-k'>2:</span><span class='ee-v'>0</span></li><li><span class='ee-k'>3:</span><span class='ee-v'>0</span></li><li><span class='ee-k'>4:</span><span class='ee-v'>1</span></li><li><span class='ee-k'>5:</span><span class='ee-v'>0</span></li></ul></details></li><li><details><summary>data_type: double</summary><ul><li><span class='ee-k'>type:</span><span class='ee-v'>PixelType</span></li><li><span class='ee-k'>max:</span><span class='ee-v'>6.5535000000000005</span></li><li><span class='ee-k'>min:</span><span class='ee-v'>0</span></li><li><span class='ee-k'>precision:</span><span class='ee-v'>double</span></li></ul></details></li></ul></details></li><li><details><summary>4: \"B5\", double, EPSG:4326</summary><ul><li><span class='ee-k'>id:</span><span class='ee-v'>B5</span></li><li><span class='ee-k'>crs:</span><span class='ee-v'>EPSG:4326</span></li><li><details><summary>crs_transform: [1, 0, 0, 0, 1, 0]</summary><ul><li><span class='ee-k'>0:</span><span class='ee-v'>1</span></li><li><span class='ee-k'>1:</span><span class='ee-v'>0</span></li><li><span class='ee-k'>2:</span><span class='ee-v'>0</span></li><li><span class='ee-k'>3:</span><span class='ee-v'>0</span></li><li><span class='ee-k'>4:</span><span class='ee-v'>1</span></li><li><span class='ee-k'>5:</span><span class='ee-v'>0</span></li></ul></details></li><li><details><summary>data_type: double</summary><ul><li><span class='ee-k'>type:</span><span class='ee-v'>PixelType</span></li><li><span class='ee-k'>max:</span><span class='ee-v'>6.5535000000000005</span></li><li><span class='ee-k'>min:</span><span class='ee-v'>0</span></li><li><span class='ee-k'>precision:</span><span class='ee-v'>double</span></li></ul></details></li></ul></details></li><li><details><summary>5: \"B6\", double, EPSG:4326</summary><ul><li><span class='ee-k'>id:</span><span class='ee-v'>B6</span></li><li><span class='ee-k'>crs:</span><span class='ee-v'>EPSG:4326</span></li><li><details><summary>crs_transform: [1, 0, 0, 0, 1, 0]</summary><ul><li><span class='ee-k'>0:</span><span class='ee-v'>1</span></li><li><span class='ee-k'>1:</span><span class='ee-v'>0</span></li><li><span class='ee-k'>2:</span><span class='ee-v'>0</span></li><li><span class='ee-k'>3:</span><span class='ee-v'>0</span></li><li><span class='ee-k'>4:</span><span class='ee-v'>1</span></li><li><span class='ee-k'>5:</span><span class='ee-v'>0</span></li></ul></details></li><li><details><summary>data_type: double</summary><ul><li><span class='ee-k'>type:</span><span class='ee-v'>PixelType</span></li><li><span class='ee-k'>max:</span><span class='ee-v'>6.5535000000000005</span></li><li><span class='ee-k'>min:</span><span class='ee-v'>0</span></li><li><span class='ee-k'>precision:</span><span class='ee-v'>double</span></li></ul></details></li></ul></details></li><li><details><summary>6: \"B7\", double, EPSG:4326</summary><ul><li><span class='ee-k'>id:</span><span class='ee-v'>B7</span></li><li><span class='ee-k'>crs:</span><span class='ee-v'>EPSG:4326</span></li><li><details><summary>crs_transform: [1, 0, 0, 0, 1, 0]</summary><ul><li><span class='ee-k'>0:</span><span class='ee-v'>1</span></li><li><span class='ee-k'>1:</span><span class='ee-v'>0</span></li><li><span class='ee-k'>2:</span><span class='ee-v'>0</span></li><li><span class='ee-k'>3:</span><span class='ee-v'>0</span></li><li><span class='ee-k'>4:</span><span class='ee-v'>1</span></li><li><span class='ee-k'>5:</span><span class='ee-v'>0</span></li></ul></details></li><li><details><summary>data_type: double</summary><ul><li><span class='ee-k'>type:</span><span class='ee-v'>PixelType</span></li><li><span class='ee-k'>max:</span><span class='ee-v'>6.5535000000000005</span></li><li><span class='ee-k'>min:</span><span class='ee-v'>0</span></li><li><span class='ee-k'>precision:</span><span class='ee-v'>double</span></li></ul></details></li></ul></details></li><li><details><summary>7: \"B8\", double, EPSG:4326</summary><ul><li><span class='ee-k'>id:</span><span class='ee-v'>B8</span></li><li><span class='ee-k'>crs:</span><span class='ee-v'>EPSG:4326</span></li><li><details><summary>crs_transform: [1, 0, 0, 0, 1, 0]</summary><ul><li><span class='ee-k'>0:</span><span class='ee-v'>1</span></li><li><span class='ee-k'>1:</span><span class='ee-v'>0</span></li><li><span class='ee-k'>2:</span><span class='ee-v'>0</span></li><li><span class='ee-k'>3:</span><span class='ee-v'>0</span></li><li><span class='ee-k'>4:</span><span class='ee-v'>1</span></li><li><span class='ee-k'>5:</span><span class='ee-v'>0</span></li></ul></details></li><li><details><summary>data_type: double</summary><ul><li><span class='ee-k'>type:</span><span class='ee-v'>PixelType</span></li><li><span class='ee-k'>max:</span><span class='ee-v'>6.5535000000000005</span></li><li><span class='ee-k'>min:</span><span class='ee-v'>0</span></li><li><span class='ee-k'>precision:</span><span class='ee-v'>double</span></li></ul></details></li></ul></details></li><li><details><summary>8: \"B8A\", double, EPSG:4326</summary><ul><li><span class='ee-k'>id:</span><span class='ee-v'>B8A</span></li><li><span class='ee-k'>crs:</span><span class='ee-v'>EPSG:4326</span></li><li><details><summary>crs_transform: [1, 0, 0, 0, 1, 0]</summary><ul><li><span class='ee-k'>0:</span><span class='ee-v'>1</span></li><li><span class='ee-k'>1:</span><span class='ee-v'>0</span></li><li><span class='ee-k'>2:</span><span class='ee-v'>0</span></li><li><span class='ee-k'>3:</span><span class='ee-v'>0</span></li><li><span class='ee-k'>4:</span><span class='ee-v'>1</span></li><li><span class='ee-k'>5:</span><span class='ee-v'>0</span></li></ul></details></li><li><details><summary>data_type: double</summary><ul><li><span class='ee-k'>type:</span><span class='ee-v'>PixelType</span></li><li><span class='ee-k'>max:</span><span class='ee-v'>6.5535000000000005</span></li><li><span class='ee-k'>min:</span><span class='ee-v'>0</span></li><li><span class='ee-k'>precision:</span><span class='ee-v'>double</span></li></ul></details></li></ul></details></li><li><details><summary>9: \"B9\", double, EPSG:4326</summary><ul><li><span class='ee-k'>id:</span><span class='ee-v'>B9</span></li><li><span class='ee-k'>crs:</span><span class='ee-v'>EPSG:4326</span></li><li><details><summary>crs_transform: [1, 0, 0, 0, 1, 0]</summary><ul><li><span class='ee-k'>0:</span><span class='ee-v'>1</span></li><li><span class='ee-k'>1:</span><span class='ee-v'>0</span></li><li><span class='ee-k'>2:</span><span class='ee-v'>0</span></li><li><span class='ee-k'>3:</span><span class='ee-v'>0</span></li><li><span class='ee-k'>4:</span><span class='ee-v'>1</span></li><li><span class='ee-k'>5:</span><span class='ee-v'>0</span></li></ul></details></li><li><details><summary>data_type: double</summary><ul><li><span class='ee-k'>type:</span><span class='ee-v'>PixelType</span></li><li><span class='ee-k'>max:</span><span class='ee-v'>6.5535000000000005</span></li><li><span class='ee-k'>min:</span><span class='ee-v'>0</span></li><li><span class='ee-k'>precision:</span><span class='ee-v'>double</span></li></ul></details></li></ul></details></li><li><details><summary>10: \"B11\", double, EPSG:4326</summary><ul><li><span class='ee-k'>id:</span><span class='ee-v'>B11</span></li><li><span class='ee-k'>crs:</span><span class='ee-v'>EPSG:4326</span></li><li><details><summary>crs_transform: [1, 0, 0, 0, 1, 0]</summary><ul><li><span class='ee-k'>0:</span><span class='ee-v'>1</span></li><li><span class='ee-k'>1:</span><span class='ee-v'>0</span></li><li><span class='ee-k'>2:</span><span class='ee-v'>0</span></li><li><span class='ee-k'>3:</span><span class='ee-v'>0</span></li><li><span class='ee-k'>4:</span><span class='ee-v'>1</span></li><li><span class='ee-k'>5:</span><span class='ee-v'>0</span></li></ul></details></li><li><details><summary>data_type: double</summary><ul><li><span class='ee-k'>type:</span><span class='ee-v'>PixelType</span></li><li><span class='ee-k'>max:</span><span class='ee-v'>6.5535000000000005</span></li><li><span class='ee-k'>min:</span><span class='ee-v'>0</span></li><li><span class='ee-k'>precision:</span><span class='ee-v'>double</span></li></ul></details></li></ul></details></li><li><details><summary>11: \"B12\", double, EPSG:4326</summary><ul><li><span class='ee-k'>id:</span><span class='ee-v'>B12</span></li><li><span class='ee-k'>crs:</span><span class='ee-v'>EPSG:4326</span></li><li><details><summary>crs_transform: [1, 0, 0, 0, 1, 0]</summary><ul><li><span class='ee-k'>0:</span><span class='ee-v'>1</span></li><li><span class='ee-k'>1:</span><span class='ee-v'>0</span></li><li><span class='ee-k'>2:</span><span class='ee-v'>0</span></li><li><span class='ee-k'>3:</span><span class='ee-v'>0</span></li><li><span class='ee-k'>4:</span><span class='ee-v'>1</span></li><li><span class='ee-k'>5:</span><span class='ee-v'>0</span></li></ul></details></li><li><details><summary>data_type: double</summary><ul><li><span class='ee-k'>type:</span><span class='ee-v'>PixelType</span></li><li><span class='ee-k'>max:</span><span class='ee-v'>6.5535000000000005</span></li><li><span class='ee-k'>min:</span><span class='ee-v'>0</span></li><li><span class='ee-k'>precision:</span><span class='ee-v'>double</span></li></ul></details></li></ul></details></li><li><details><summary>12: \"cs_cdf\", double, EPSG:4326</summary><ul><li><span class='ee-k'>id:</span><span class='ee-v'>cs_cdf</span></li><li><span class='ee-k'>crs:</span><span class='ee-v'>EPSG:4326</span></li><li><details><summary>crs_transform: [1, 0, 0, 0, 1, 0]</summary><ul><li><span class='ee-k'>0:</span><span class='ee-v'>1</span></li><li><span class='ee-k'>1:</span><span class='ee-v'>0</span></li><li><span class='ee-k'>2:</span><span class='ee-v'>0</span></li><li><span class='ee-k'>3:</span><span class='ee-v'>0</span></li><li><span class='ee-k'>4:</span><span class='ee-v'>1</span></li><li><span class='ee-k'>5:</span><span class='ee-v'>0</span></li></ul></details></li><li><details><summary>data_type: double</summary><ul><li><span class='ee-k'>type:</span><span class='ee-v'>PixelType</span></li><li><span class='ee-k'>precision:</span><span class='ee-v'>double</span></li></ul></details></li></ul></details></li></ul></details></li></ul></details></li></ul></div></div>"
      ],
      "text/plain": [
       "<ee.image.Image at 0x285e82eb3b0>"
      ]
     },
     "metadata": {},
     "output_type": "display_data"
    }
   ],
   "source": [
    "median_composite = resampled.median().multiply(0.0001).clip(roi)\n",
    "display(median_composite)"
   ]
  },
  {
   "cell_type": "markdown",
   "id": "c4c3f623",
   "metadata": {},
   "source": [
    "Deriving NDVI from median composite"
   ]
  },
  {
   "cell_type": "code",
   "execution_count": 8,
   "id": "2061d7ee",
   "metadata": {},
   "outputs": [
    {
     "data": {
      "text/html": [
       "\n",
       "            <style>\n",
       "                .geemap-dark {\n",
       "                    --jp-widgets-color: white;\n",
       "                    --jp-widgets-label-color: white;\n",
       "                    --jp-ui-font-color1: white;\n",
       "                    --jp-layout-color2: #454545;\n",
       "                    background-color: #383838;\n",
       "                }\n",
       "\n",
       "                .geemap-dark .jupyter-button {\n",
       "                    --jp-layout-color3: #383838;\n",
       "                }\n",
       "\n",
       "                .geemap-colab {\n",
       "                    background-color: var(--colab-primary-surface-color, white);\n",
       "                }\n",
       "\n",
       "                .geemap-colab .jupyter-button {\n",
       "                    --jp-layout-color3: var(--colab-primary-surface-color, white);\n",
       "                }\n",
       "            </style>\n",
       "            "
      ],
      "text/plain": [
       "<IPython.core.display.HTML object>"
      ]
     },
     "metadata": {},
     "output_type": "display_data"
    }
   ],
   "source": [
    "ndvi = median_composite.normalizedDifference(['B8', 'B4']).rename('ndvi')"
   ]
  },
  {
   "cell_type": "markdown",
   "id": "028611c0",
   "metadata": {},
   "source": [
    "Fixing the threshold value based on individual pixel inspection after mutiple times of trial and error\n",
    "\n",
    "creating binary class with 1 = vegetated and 0 = non vegetated pixels"
   ]
  },
  {
   "cell_type": "code",
   "execution_count": 9,
   "id": "7e0ab872",
   "metadata": {},
   "outputs": [
    {
     "data": {
      "text/html": [
       "\n",
       "            <style>\n",
       "                .geemap-dark {\n",
       "                    --jp-widgets-color: white;\n",
       "                    --jp-widgets-label-color: white;\n",
       "                    --jp-ui-font-color1: white;\n",
       "                    --jp-layout-color2: #454545;\n",
       "                    background-color: #383838;\n",
       "                }\n",
       "\n",
       "                .geemap-dark .jupyter-button {\n",
       "                    --jp-layout-color3: #383838;\n",
       "                }\n",
       "\n",
       "                .geemap-colab {\n",
       "                    background-color: var(--colab-primary-surface-color, white);\n",
       "                }\n",
       "\n",
       "                .geemap-colab .jupyter-button {\n",
       "                    --jp-layout-color3: var(--colab-primary-surface-color, white);\n",
       "                }\n",
       "            </style>\n",
       "            "
      ],
      "text/plain": [
       "<IPython.core.display.HTML object>"
      ]
     },
     "metadata": {},
     "output_type": "display_data"
    }
   ],
   "source": [
    "threshold = 0.40\n",
    "\n",
    "ndviClasses = ndvi.where(ndvi.lt(threshold), 0)\\\n",
    "            .where(ndvi.gte(threshold), 1)"
   ]
  },
  {
   "cell_type": "markdown",
   "id": "a9b491c8",
   "metadata": {},
   "source": [
    "Zonal Stats to get mean values for NDVI binary class"
   ]
  },
  {
   "cell_type": "code",
   "execution_count": 10,
   "id": "9616eced",
   "metadata": {},
   "outputs": [
    {
     "data": {
      "text/html": [
       "\n",
       "            <style>\n",
       "                .geemap-dark {\n",
       "                    --jp-widgets-color: white;\n",
       "                    --jp-widgets-label-color: white;\n",
       "                    --jp-ui-font-color1: white;\n",
       "                    --jp-layout-color2: #454545;\n",
       "                    background-color: #383838;\n",
       "                }\n",
       "\n",
       "                .geemap-dark .jupyter-button {\n",
       "                    --jp-layout-color3: #383838;\n",
       "                }\n",
       "\n",
       "                .geemap-colab {\n",
       "                    background-color: var(--colab-primary-surface-color, white);\n",
       "                }\n",
       "\n",
       "                .geemap-colab .jupyter-button {\n",
       "                    --jp-layout-color3: var(--colab-primary-surface-color, white);\n",
       "                }\n",
       "            </style>\n",
       "            "
      ],
      "text/plain": [
       "<IPython.core.display.HTML object>"
      ]
     },
     "metadata": {},
     "output_type": "display_data"
    },
    {
     "data": {
      "text/html": [
       "<div><style>:root {\n",
       "  --font-color-primary: var(--jp-content-font-color0, rgba(0, 0, 0, 1));\n",
       "  --font-color-secondary: var(--jp-content-font-color2, rgba(0, 0, 0, 0.7));\n",
       "  --font-color-accent: rgba(123, 31, 162, 1);\n",
       "  --border-color: var(--jp-border-color2, #e0e0e0);\n",
       "  --background-color: var(--jp-layout-color0, white);\n",
       "  --background-color-row-even: var(--jp-layout-color1, white);\n",
       "  --background-color-row-odd: var(--jp-layout-color2, #eeeeee);\n",
       "}\n",
       "\n",
       "html[theme=\"dark\"],\n",
       "body[data-theme=\"dark\"],\n",
       "body.vscode-dark {\n",
       "  --font-color-primary: rgba(255, 255, 255, 1);\n",
       "  --font-color-secondary: rgba(255, 255, 255, 0.7);\n",
       "  --font-color-accent: rgb(173, 132, 190);\n",
       "  --border-color: #2e2e2e;\n",
       "  --background-color: #111111;\n",
       "  --background-color-row-even: #111111;\n",
       "  --background-color-row-odd: #313131;\n",
       "}\n",
       "\n",
       ".eerepr {\n",
       "  padding: 1em;\n",
       "  line-height: 1.5em;\n",
       "  min-width: 300px;\n",
       "  max-width: 1200px;\n",
       "  overflow-y: scroll;\n",
       "  max-height: 600px;\n",
       "  border: 1px solid var(--border-color);\n",
       "  font-family: monospace;\n",
       "  font-size: 14px;\n",
       "}\n",
       "\n",
       ".eerepr li {\n",
       "  list-style-type: none;\n",
       "  margin: 0;\n",
       "}\n",
       "\n",
       ".eerepr ul {\n",
       "  padding-left: 1.5em !important;\n",
       "  margin: 0;\n",
       "}\n",
       "\n",
       ".eerepr > ul {\n",
       "  padding-left: 0 !important;\n",
       "}\n",
       "\n",
       ".eerepr summary {\n",
       "  color: var(--font-color-secondary);\n",
       "  cursor: pointer;\n",
       "  margin: 0;\n",
       "}\n",
       "\n",
       ".eerepr summary:hover {\n",
       "  color: var(--font-color-primary);\n",
       "  background-color: var(--background-color-row-odd)\n",
       "}\n",
       "\n",
       ".ee-k {\n",
       "  color: var(--font-color-accent);\n",
       "  margin-right: 6px;\n",
       "}\n",
       "\n",
       ".ee-v {\n",
       "  color: var(--font-color-primary);\n",
       "}\n",
       "\n",
       ".eerepr details > summary::before {\n",
       "  content: '▼';\n",
       "  display: inline-block;\n",
       "  margin-right: 6px;\n",
       "  transition: transform 0.2s;\n",
       "  transform: rotate(-90deg);\n",
       "}\n",
       "\n",
       ".eerepr details[open] > summary::before {\n",
       "  transform: rotate(0deg);\n",
       "}\n",
       "\n",
       ".eerepr details summary::-webkit-details-marker {\n",
       "  display:none;\n",
       "}\n",
       "\n",
       ".eerepr details summary {\n",
       "  list-style-type: none;\n",
       "}\n",
       "</style><div class='eerepr'><ul><li><details><summary>FeatureCollection (6 elements, 5 columns)</summary><ul><li><span class='ee-k'>type:</span><span class='ee-v'>FeatureCollection</span></li><li><details><summary>columns: Object (5 properties)</summary><ul><li><span class='ee-k'>Area (hect:</span><span class='ee-v'>Float</span></li><li><span class='ee-k'>Descriptio:</span><span class='ee-v'>String</span></li><li><span class='ee-k'>Name:</span><span class='ee-v'>String</span></li><li><span class='ee-k'>mean:</span><span class='ee-v'>Float&lt;-1.0, 1.0&gt;</span></li><li><span class='ee-k'>system:index:</span><span class='ee-v'>String</span></li></ul></details></li><li><details><summary>features: List (6 elements)</summary><ul><li><details><summary>0: Feature (Polygon, 4 properties)</summary><ul><li><span class='ee-k'>type:</span><span class='ee-v'>Feature</span></li><li><span class='ee-k'>id:</span><span class='ee-v'>00000000000000000000</span></li><li><details><summary>geometry: Polygon (38 vertices)</summary><ul><li><span class='ee-k'>type:</span><span class='ee-v'>Polygon</span></li><li><details><summary>coordinates: List (1 element)</summary><ul><li><details><summary>0: List (38 elements)</summary><ul><li><details><summary>0: [80.39696775832493, 21.844137208718752]</summary><ul><li><span class='ee-k'>0:</span><span class='ee-v'>80.39696775832493</span></li><li><span class='ee-k'>1:</span><span class='ee-v'>21.844137208718752</span></li></ul></details></li><li><details><summary>1: [80.39787290078617, 21.843343488610337]</summary><ul><li><span class='ee-k'>0:</span><span class='ee-v'>80.39787290078617</span></li><li><span class='ee-k'>1:</span><span class='ee-v'>21.843343488610337</span></li></ul></details></li><li><details><summary>2: [80.3976143017863, 21.842447194351383]</summary><ul><li><span class='ee-k'>0:</span><span class='ee-v'>80.3976143017863</span></li><li><span class='ee-k'>1:</span><span class='ee-v'>21.842447194351383</span></li></ul></details></li><li><details><summary>3: [80.39700784365532, 21.84126107057055]</summary><ul><li><span class='ee-k'>0:</span><span class='ee-v'>80.39700784365532</span></li><li><span class='ee-k'>1:</span><span class='ee-v'>21.84126107057055</span></li></ul></details></li><li><details><summary>4: [80.39732444914898, 21.841082729192372]</summary><ul><li><span class='ee-k'>0:</span><span class='ee-v'>80.39732444914898</span></li><li><span class='ee-k'>1:</span><span class='ee-v'>21.841082729192372</span></li></ul></details></li><li><details><summary>5: [80.39785506639805, 21.840859800955357]</summary><ul><li><span class='ee-k'>0:</span><span class='ee-v'>80.39785506639805</span></li><li><span class='ee-k'>1:</span><span class='ee-v'>21.840859800955357</span></li></ul></details></li><li><details><summary>6: [80.39840801558603, 21.840494101927046]</summary><ul><li><span class='ee-k'>0:</span><span class='ee-v'>80.39840801558603</span></li><li><span class='ee-k'>1:</span><span class='ee-v'>21.840494101927046</span></li></ul></details></li><li><details><summary>7: [80.39907688303937, 21.839981372882487]</summary><ul><li><span class='ee-k'>0:</span><span class='ee-v'>80.39907688303937</span></li><li><span class='ee-k'>1:</span><span class='ee-v'>21.839981372882487</span></li></ul></details></li><li><details><summary>8: [80.4001069250563, 21.839414995732835]</summary><ul><li><span class='ee-k'>0:</span><span class='ee-v'>80.4001069250563</span></li><li><span class='ee-k'>1:</span><span class='ee-v'>21.839414995732835</span></li></ul></details></li><li><details><summary>9: [80.40084711395717, 21.83899583691053]</summary><ul><li><span class='ee-k'>0:</span><span class='ee-v'>80.40084711395717</span></li><li><span class='ee-k'>1:</span><span class='ee-v'>21.83899583691053</span></li></ul></details></li><li><details><summary>10: [80.4016363811346, 21.838389451334198]</summary><ul><li><span class='ee-k'>0:</span><span class='ee-v'>80.4016363811346</span></li><li><span class='ee-k'>1:</span><span class='ee-v'>21.838389451334198</span></li></ul></details></li><li><details><summary>11: [80.40217597267609, 21.8393169200671]</summary><ul><li><span class='ee-k'>0:</span><span class='ee-v'>80.40217597267609</span></li><li><span class='ee-k'>1:</span><span class='ee-v'>21.8393169200671</span></li></ul></details></li><li><details><summary>12: [80.4021001379405, 21.839695999563276]</summary><ul><li><span class='ee-k'>0:</span><span class='ee-v'>80.4021001379405</span></li><li><span class='ee-k'>1:</span><span class='ee-v'>21.839695999563276</span></li></ul></details></li><li><details><summary>13: [80.40223388896757, 21.840106226895298]</summary><ul><li><span class='ee-k'>0:</span><span class='ee-v'>80.40223388896757</span></li><li><span class='ee-k'>1:</span><span class='ee-v'>21.840106226895298</span></li></ul></details></li><li><details><summary>14: [80.40247022438622, 21.840253385626458]</summary><ul><li><span class='ee-k'>0:</span><span class='ee-v'>80.40247022438622</span></li><li><span class='ee-k'>1:</span><span class='ee-v'>21.840253385626458</span></li></ul></details></li><li><details><summary>15: [80.40276005918506, 21.84022654648066]</summary><ul><li><span class='ee-k'>0:</span><span class='ee-v'>80.40276005918506</span></li><li><span class='ee-k'>1:</span><span class='ee-v'>21.84022654648066</span></li></ul></details></li><li><details><summary>16: [80.40336205974992, 21.840605583654938]</summary><ul><li><span class='ee-k'>0:</span><span class='ee-v'>80.40336205974992</span></li><li><span class='ee-k'>1:</span><span class='ee-v'>21.840605583654938</span></li></ul></details></li><li><details><summary>17: [80.40330856008687, 21.841082768606636]</summary><ul><li><span class='ee-k'>0:</span><span class='ee-v'>80.40330856008687</span></li><li><span class='ee-k'>1:</span><span class='ee-v'>21.841082768606636</span></li></ul></details></li><li><details><summary>18: [80.40353597587834, 21.841506389244657]</summary><ul><li><span class='ee-k'>0:</span><span class='ee-v'>80.40353597587834</span></li><li><span class='ee-k'>1:</span><span class='ee-v'>21.841506389244657</span></li></ul></details></li><li><details><summary>19: [80.40449913179164, 21.842661283461975]</summary><ul><li><span class='ee-k'>0:</span><span class='ee-v'>80.40449913179164</span></li><li><span class='ee-k'>1:</span><span class='ee-v'>21.842661283461975</span></li></ul></details></li><li><details><summary>20: [80.40457938013026, 21.84335239560467]</summary><ul><li><span class='ee-k'>0:</span><span class='ee-v'>80.40457938013026</span></li><li><span class='ee-k'>1:</span><span class='ee-v'>21.84335239560467</span></li></ul></details></li><li><details><summary>21: [80.4044411321508, 21.843976722675478]</summary><ul><li><span class='ee-k'>0:</span><span class='ee-v'>80.4044411321508</span></li><li><span class='ee-k'>1:</span><span class='ee-v'>21.843976722675478</span></li></ul></details></li><li><details><summary>22: [80.40436088367943, 21.8440881975633]</summary><ul><li><span class='ee-k'>0:</span><span class='ee-v'>80.40436088367943</span></li><li><span class='ee-k'>1:</span><span class='ee-v'>21.8440881975633</span></li></ul></details></li><li><details><summary>23: [80.40394622289017, 21.84451629064936]</summary><ul><li><span class='ee-k'>0:</span><span class='ee-v'>80.40394622289017</span></li><li><span class='ee-k'>1:</span><span class='ee-v'>21.84451629064936</span></li></ul></details></li><li><details><summary>24: [80.40378572492, 21.844765983205797]</summary><ul><li><span class='ee-k'>0:</span><span class='ee-v'>80.40378572492</span></li><li><span class='ee-k'>1:</span><span class='ee-v'>21.844765983205797</span></li></ul></details></li><li><details><summary>25: [80.40319705988537, 21.84491314244821]</summary><ul><li><span class='ee-k'>0:</span><span class='ee-v'>80.40319705988537</span></li><li><span class='ee-k'>1:</span><span class='ee-v'>21.84491314244821</span></li></ul></details></li><li><details><summary>26: [80.40288047662901, 21.845492743575015]</summary><ul><li><span class='ee-k'>0:</span><span class='ee-v'>80.40288047662901</span></li><li><span class='ee-k'>1:</span><span class='ee-v'>21.845492743575015</span></li></ul></details></li><li><details><summary>27: [80.40259514305298, 21.846357814520744]</summary><ul><li><span class='ee-k'>0:</span><span class='ee-v'>80.40259514305298</span></li><li><span class='ee-k'>1:</span><span class='ee-v'>21.846357814520744</span></li></ul></details></li><li><details><summary>28: [80.4021313889933, 21.846781501069703]</summary><ul><li><span class='ee-k'>0:</span><span class='ee-v'>80.4021313889933</span></li><li><span class='ee-k'>1:</span><span class='ee-v'>21.846781501069703</span></li></ul></details></li><li><details><summary>29: [80.4013911265411, 21.846812641098026]</summary><ul><li><span class='ee-k'>0:</span><span class='ee-v'>80.4013911265411</span></li><li><span class='ee-k'>1:</span><span class='ee-v'>21.846812641098026</span></li></ul></details></li><li><details><summary>30: [80.39971007716122, 21.846915242021527]</summary><ul><li><span class='ee-k'>0:</span><span class='ee-v'>80.39971007716122</span></li><li><span class='ee-k'>1:</span><span class='ee-v'>21.846915242021527</span></li></ul></details></li><li><details><summary>31: [80.3987246157788, 21.846870632804563]</summary><ul><li><span class='ee-k'>0:</span><span class='ee-v'>80.3987246157788</span></li><li><span class='ee-k'>1:</span><span class='ee-v'>21.846870632804563</span></li></ul></details></li><li><details><summary>32: [80.39850610402499, 21.846398002401067]</summary><ul><li><span class='ee-k'>0:</span><span class='ee-v'>80.39850610402499</span></li><li><span class='ee-k'>1:</span><span class='ee-v'>21.846398002401067</span></li></ul></details></li><li><details><summary>33: [80.39757863289599, 21.846179476020605]</summary><ul><li><span class='ee-k'>0:</span><span class='ee-v'>80.39757863289599</span></li><li><span class='ee-k'>1:</span><span class='ee-v'>21.846179476020605</span></li></ul></details></li><li><details><summary>34: [80.3973735364814, 21.845639915242177]</summary><ul><li><span class='ee-k'>0:</span><span class='ee-v'>80.3973735364814</span></li><li><span class='ee-k'>1:</span><span class='ee-v'>21.845639915242177</span></li></ul></details></li><li><details><summary>35: [80.39705243007016, 21.845715699022275]</summary><ul><li><span class='ee-k'>0:</span><span class='ee-v'>80.39705243007016</span></li><li><span class='ee-k'>1:</span><span class='ee-v'>21.845715699022275</span></li></ul></details></li><li><details><summary>36: [80.39652180772862, 21.844409199579033]</summary><ul><li><span class='ee-k'>0:</span><span class='ee-v'>80.39652180772862</span></li><li><span class='ee-k'>1:</span><span class='ee-v'>21.844409199579033</span></li></ul></details></li><li><details><summary>37: [80.39696775832493, 21.844137208718752]</summary><ul><li><span class='ee-k'>0:</span><span class='ee-v'>80.39696775832493</span></li><li><span class='ee-k'>1:</span><span class='ee-v'>21.844137208718752</span></li></ul></details></li></ul></details></li></ul></details></li></ul></details></li><li><details><summary>properties: Object (4 properties)</summary><ul><li><span class='ee-k'>Area (hect:</span><span class='ee-v'>50.117</span></li><li><span class='ee-k'>Descriptio:</span><span class='ee-v'></span></li><li><span class='ee-k'>Name:</span><span class='ee-v'>1</span></li><li><span class='ee-k'>mean:</span><span class='ee-v'>0.5241980620099759</span></li></ul></details></li></ul></details></li><li><details><summary>1: Feature (Polygon, 4 properties)</summary><ul><li><span class='ee-k'>type:</span><span class='ee-v'>Feature</span></li><li><span class='ee-k'>id:</span><span class='ee-v'>00000000000000000001</span></li><li><details><summary>geometry: Polygon (24 vertices)</summary><ul><li><span class='ee-k'>type:</span><span class='ee-v'>Polygon</span></li><li><details><summary>coordinates: List (1 element)</summary><ul><li><details><summary>0: List (24 elements)</summary><ul><li><details><summary>0: [80.4042628021098, 21.819572072802753]</summary><ul><li><span class='ee-k'>0:</span><span class='ee-v'>80.4042628021098</span></li><li><span class='ee-k'>1:</span><span class='ee-v'>21.819572072802753</span></li></ul></details></li><li><details><summary>1: [80.40461504603378, 21.81930447025836]</summary><ul><li><span class='ee-k'>0:</span><span class='ee-v'>80.40461504603378</span></li><li><span class='ee-k'>1:</span><span class='ee-v'>21.81930447025836</span></li></ul></details></li><li><details><summary>2: [80.40515461834599, 21.819045902311125]</summary><ul><li><span class='ee-k'>0:</span><span class='ee-v'>80.40515461834599</span></li><li><span class='ee-k'>1:</span><span class='ee-v'>21.819045902311125</span></li></ul></details></li><li><details><summary>3: [80.40550244278047, 21.819001266144678]</summary><ul><li><span class='ee-k'>0:</span><span class='ee-v'>80.40550244278047</span></li><li><span class='ee-k'>1:</span><span class='ee-v'>21.819001266144678</span></li></ul></details></li><li><details><summary>4: [80.40583243308092, 21.819059233400285]</summary><ul><li><span class='ee-k'>0:</span><span class='ee-v'>80.40583243308092</span></li><li><span class='ee-k'>1:</span><span class='ee-v'>21.819059233400285</span></li></ul></details></li><li><details><summary>5: [80.40646116035028, 21.818885371771902]</summary><ul><li><span class='ee-k'>0:</span><span class='ee-v'>80.40646116035028</span></li><li><span class='ee-k'>1:</span><span class='ee-v'>21.818885371771902</span></li></ul></details></li><li><details><summary>6: [80.40666623446964, 21.818992331730296]</summary><ul><li><span class='ee-k'>0:</span><span class='ee-v'>80.40666623446964</span></li><li><span class='ee-k'>1:</span><span class='ee-v'>21.818992331730296</span></li></ul></details></li><li><details><summary>7: [80.40750902861949, 21.81891658488243]</summary><ul><li><span class='ee-k'>0:</span><span class='ee-v'>80.40750902861949</span></li><li><span class='ee-k'>1:</span><span class='ee-v'>21.81891658488243</span></li></ul></details></li><li><details><summary>8: [80.4079727528378, 21.818831786662855]</summary><ul><li><span class='ee-k'>0:</span><span class='ee-v'>80.4079727528378</span></li><li><span class='ee-k'>1:</span><span class='ee-v'>21.818831786662855</span></li></ul></details></li><li><details><summary>9: [80.40852572001144, 21.818720313548774]</summary><ul><li><span class='ee-k'>0:</span><span class='ee-v'>80.40852572001144</span></li><li><span class='ee-k'>1:</span><span class='ee-v'>21.818720313548774</span></li></ul></details></li><li><details><summary>10: [80.40927933568842, 21.818622247584816]</summary><ul><li><span class='ee-k'>0:</span><span class='ee-v'>80.40927933568842</span></li><li><span class='ee-k'>1:</span><span class='ee-v'>21.818622247584816</span></li></ul></details></li><li><details><summary>11: [80.40949331884418, 21.819433809035964]</summary><ul><li><span class='ee-k'>0:</span><span class='ee-v'>80.40949331884418</span></li><li><span class='ee-k'>1:</span><span class='ee-v'>21.819433809035964</span></li></ul></details></li><li><details><summary>12: [80.40919009096426, 21.8199600191366]</summary><ul><li><span class='ee-k'>0:</span><span class='ee-v'>80.40919009096426</span></li><li><span class='ee-k'>1:</span><span class='ee-v'>21.8199600191366</span></li></ul></details></li><li><details><summary>13: [80.40937291092953, 21.821070254060995]</summary><ul><li><span class='ee-k'>0:</span><span class='ee-v'>80.40937291092953</span></li><li><span class='ee-k'>1:</span><span class='ee-v'>21.821070254060995</span></li></ul></details></li><li><details><summary>14: [80.40950223479712, 21.821846173839027]</summary><ul><li><span class='ee-k'>0:</span><span class='ee-v'>80.40950223479712</span></li><li><span class='ee-k'>1:</span><span class='ee-v'>21.821846173839027</span></li></ul></details></li><li><details><summary>15: [80.40946657097969, 21.822336656674054]</summary><ul><li><span class='ee-k'>0:</span><span class='ee-v'>80.40946657097969</span></li><li><span class='ee-k'>1:</span><span class='ee-v'>21.822336656674054</span></li></ul></details></li><li><details><summary>16: [80.40873970509763, 21.822764771860406]</summary><ul><li><span class='ee-k'>0:</span><span class='ee-v'>80.40873970509763</span></li><li><span class='ee-k'>1:</span><span class='ee-v'>21.822764771860406</span></li></ul></details></li><li><details><summary>17: [80.40769185226358, 21.822666653725395]</summary><ul><li><span class='ee-k'>0:</span><span class='ee-v'>80.40769185226358</span></li><li><span class='ee-k'>1:</span><span class='ee-v'>21.822666653725395</span></li></ul></details></li><li><details><summary>18: [80.40629616660438, 21.822635406409805]</summary><ul><li><span class='ee-k'>0:</span><span class='ee-v'>80.40629616660438</span></li><li><span class='ee-k'>1:</span><span class='ee-v'>21.822635406409805</span></li></ul></details></li><li><details><summary>19: [80.40547119298812, 21.822555137141535]</summary><ul><li><span class='ee-k'>0:</span><span class='ee-v'>80.40547119298812</span></li><li><span class='ee-k'>1:</span><span class='ee-v'>21.822555137141535</span></li></ul></details></li><li><details><summary>20: [80.4043564678883, 21.821881839131446]</summary><ul><li><span class='ee-k'>0:</span><span class='ee-v'>80.4043564678883</span></li><li><span class='ee-k'>1:</span><span class='ee-v'>21.821881839131446</span></li></ul></details></li><li><details><summary>21: [80.40433413417186, 21.821159440023397]</summary><ul><li><span class='ee-k'>0:</span><span class='ee-v'>80.40433413417186</span></li><li><span class='ee-k'>1:</span><span class='ee-v'>21.821159440023397</span></li></ul></details></li><li><details><summary>22: [80.40401755522244, 21.82029443987703]</summary><ul><li><span class='ee-k'>0:</span><span class='ee-v'>80.40401755522244</span></li><li><span class='ee-k'>1:</span><span class='ee-v'>21.82029443987703</span></li></ul></details></li><li><details><summary>23: [80.4042628021098, 21.819572072802753]</summary><ul><li><span class='ee-k'>0:</span><span class='ee-v'>80.4042628021098</span></li><li><span class='ee-k'>1:</span><span class='ee-v'>21.819572072802753</span></li></ul></details></li></ul></details></li></ul></details></li></ul></details></li><li><details><summary>properties: Object (4 properties)</summary><ul><li><span class='ee-k'>Area (hect:</span><span class='ee-v'>21.111</span></li><li><span class='ee-k'>Descriptio:</span><span class='ee-v'></span></li><li><span class='ee-k'>Name:</span><span class='ee-v'>2</span></li><li><span class='ee-k'>mean:</span><span class='ee-v'>0.13825792085599392</span></li></ul></details></li></ul></details></li><li><details><summary>2: Feature (Polygon, 4 properties)</summary><ul><li><span class='ee-k'>type:</span><span class='ee-v'>Feature</span></li><li><span class='ee-k'>id:</span><span class='ee-v'>00000000000000000002</span></li><li><details><summary>geometry: Polygon (28 vertices)</summary><ul><li><span class='ee-k'>type:</span><span class='ee-v'>Polygon</span></li><li><details><summary>coordinates: List (1 element)</summary><ul><li><details><summary>0: List (28 elements)</summary><ul><li><details><summary>0: [80.41775163076859, 21.85033540684668]</summary><ul><li><span class='ee-k'>0:</span><span class='ee-v'>80.41775163076859</span></li><li><span class='ee-k'>1:</span><span class='ee-v'>21.85033540684668</span></li></ul></details></li><li><details><summary>1: [80.41847841820633, 21.848703320405413]</summary><ul><li><span class='ee-k'>0:</span><span class='ee-v'>80.41847841820633</span></li><li><span class='ee-k'>1:</span><span class='ee-v'>21.848703320405413</span></li></ul></details></li><li><details><summary>2: [80.41809940274338, 21.84817712327931]</summary><ul><li><span class='ee-k'>0:</span><span class='ee-v'>80.41809940274338</span></li><li><span class='ee-k'>1:</span><span class='ee-v'>21.84817712327931</span></li></ul></details></li><li><details><summary>3: [80.41908930532182, 21.84756181186866]</summary><ul><li><span class='ee-k'>0:</span><span class='ee-v'>80.41908930532182</span></li><li><span class='ee-k'>1:</span><span class='ee-v'>21.84756181186866</span></li></ul></details></li><li><details><summary>4: [80.42104683090815, 21.847111407512728]</summary><ul><li><span class='ee-k'>0:</span><span class='ee-v'>80.42104683090815</span></li><li><span class='ee-k'>1:</span><span class='ee-v'>21.847111407512728</span></li></ul></details></li><li><details><summary>5: [80.42165328434508, 21.84687066323352]</summary><ul><li><span class='ee-k'>0:</span><span class='ee-v'>80.42165328434508</span></li><li><span class='ee-k'>1:</span><span class='ee-v'>21.84687066323352</span></li></ul></details></li><li><details><summary>6: [80.42204128318176, 21.846830512745115]</summary><ul><li><span class='ee-k'>0:</span><span class='ee-v'>80.42204128318176</span></li><li><span class='ee-k'>1:</span><span class='ee-v'>21.846830512745115</span></li></ul></details></li><li><details><summary>7: [80.42248268272776, 21.847722341653935]</summary><ul><li><span class='ee-k'>0:</span><span class='ee-v'>80.42248268272776</span></li><li><span class='ee-k'>1:</span><span class='ee-v'>21.847722341653935</span></li></ul></details></li><li><details><summary>8: [80.42332990181832, 21.848618641624906]</summary><ul><li><span class='ee-k'>0:</span><span class='ee-v'>80.42332990181832</span></li><li><span class='ee-k'>1:</span><span class='ee-v'>21.848618641624906</span></li></ul></details></li><li><details><summary>9: [80.42520718437217, 21.849398915824153]</summary><ul><li><span class='ee-k'>0:</span><span class='ee-v'>80.42520718437217</span></li><li><span class='ee-k'>1:</span><span class='ee-v'>21.849398915824153</span></li></ul></details></li><li><details><summary>10: [80.42627739989939, 21.85248464298698]</summary><ul><li><span class='ee-k'>0:</span><span class='ee-v'>80.42627739989939</span></li><li><span class='ee-k'>1:</span><span class='ee-v'>21.85248464298698</span></li></ul></details></li><li><details><summary>11: [80.42559516667929, 21.852689736356833]</summary><ul><li><span class='ee-k'>0:</span><span class='ee-v'>80.42559516667929</span></li><li><span class='ee-k'>1:</span><span class='ee-v'>21.852689736356833</span></li></ul></details></li><li><details><summary>12: [80.4259340766619, 21.854883672916237]</summary><ul><li><span class='ee-k'>0:</span><span class='ee-v'>80.4259340766619</span></li><li><span class='ee-k'>1:</span><span class='ee-v'>21.854883672916237</span></li></ul></details></li><li><details><summary>13: [80.4250198994879, 21.85503526047035]</summary><ul><li><span class='ee-k'>0:</span><span class='ee-v'>80.4250198994879</span></li><li><span class='ee-k'>1:</span><span class='ee-v'>21.85503526047035</span></li></ul></details></li><li><details><summary>14: [80.42449378462337, 21.85561495884782]</summary><ul><li><span class='ee-k'>0:</span><span class='ee-v'>80.42449378462337</span></li><li><span class='ee-k'>1:</span><span class='ee-v'>21.85561495884782</span></li></ul></details></li><li><details><summary>15: [80.42395866713322, 21.856181252143372]</summary><ul><li><span class='ee-k'>0:</span><span class='ee-v'>80.42395866713322</span></li><li><span class='ee-k'>1:</span><span class='ee-v'>21.856181252143372</span></li></ul></details></li><li><details><summary>16: [80.42346370374597, 21.855802193450625]</summary><ul><li><span class='ee-k'>0:</span><span class='ee-v'>80.42346370374597</span></li><li><span class='ee-k'>1:</span><span class='ee-v'>21.855802193450625</span></li></ul></details></li><li><details><summary>17: [80.42260307173504, 21.855195781724934]</summary><ul><li><span class='ee-k'>0:</span><span class='ee-v'>80.42260307173504</span></li><li><span class='ee-k'>1:</span><span class='ee-v'>21.855195781724934</span></li></ul></details></li><li><details><summary>18: [80.42219283147148, 21.85462499080986]</summary><ul><li><span class='ee-k'>0:</span><span class='ee-v'>80.42219283147148</span></li><li><span class='ee-k'>1:</span><span class='ee-v'>21.85462499080986</span></li></ul></details></li><li><details><summary>19: [80.42137234489272, 21.854121142090385]</summary><ul><li><span class='ee-k'>0:</span><span class='ee-v'>80.42137234489272</span></li><li><span class='ee-k'>1:</span><span class='ee-v'>21.854121142090385</span></li></ul></details></li><li><details><summary>20: [80.42047611709613, 21.85359945714984]</summary><ul><li><span class='ee-k'>0:</span><span class='ee-v'>80.42047611709613</span></li><li><span class='ee-k'>1:</span><span class='ee-v'>21.85359945714984</span></li></ul></details></li><li><details><summary>21: [80.41967794325573, 21.853006404312254]</summary><ul><li><span class='ee-k'>0:</span><span class='ee-v'>80.41967794325573</span></li><li><span class='ee-k'>1:</span><span class='ee-v'>21.853006404312254</span></li></ul></details></li><li><details><summary>22: [80.41918745438446, 21.85264074705425]</summary><ul><li><span class='ee-k'>0:</span><span class='ee-v'>80.41918745438446</span></li><li><span class='ee-k'>1:</span><span class='ee-v'>21.85264074705425</span></li></ul></details></li><li><details><summary>23: [80.41861222791387, 21.85234200690515]</summary><ul><li><span class='ee-k'>0:</span><span class='ee-v'>80.41861222791387</span></li><li><span class='ee-k'>1:</span><span class='ee-v'>21.85234200690515</span></li></ul></details></li><li><details><summary>24: [80.41833569327548, 21.85199413817824]</summary><ul><li><span class='ee-k'>0:</span><span class='ee-v'>80.41833569327548</span></li><li><span class='ee-k'>1:</span><span class='ee-v'>21.85199413817824</span></li></ul></details></li><li><details><summary>25: [80.41835802324806, 21.851356539939857]</summary><ul><li><span class='ee-k'>0:</span><span class='ee-v'>80.41835802324806</span></li><li><span class='ee-k'>1:</span><span class='ee-v'>21.851356539939857</span></li></ul></details></li><li><details><summary>26: [80.41772480064392, 21.850874948331533]</summary><ul><li><span class='ee-k'>0:</span><span class='ee-v'>80.41772480064392</span></li><li><span class='ee-k'>1:</span><span class='ee-v'>21.850874948331533</span></li></ul></details></li><li><details><summary>27: [80.41775163076859, 21.85033540684668]</summary><ul><li><span class='ee-k'>0:</span><span class='ee-v'>80.41775163076859</span></li><li><span class='ee-k'>1:</span><span class='ee-v'>21.85033540684668</span></li></ul></details></li></ul></details></li></ul></details></li></ul></details></li><li><details><summary>properties: Object (4 properties)</summary><ul><li><span class='ee-k'>Area (hect:</span><span class='ee-v'>55.123</span></li><li><span class='ee-k'>Descriptio:</span><span class='ee-v'></span></li><li><span class='ee-k'>Name:</span><span class='ee-v'>3</span></li><li><span class='ee-k'>mean:</span><span class='ee-v'>0.16087416296154092</span></li></ul></details></li></ul></details></li><li><details><summary>3: Feature (Polygon, 4 properties)</summary><ul><li><span class='ee-k'>type:</span><span class='ee-v'>Feature</span></li><li><span class='ee-k'>id:</span><span class='ee-v'>00000000000000000003</span></li><li><details><summary>geometry: Polygon (28 vertices)</summary><ul><li><span class='ee-k'>type:</span><span class='ee-v'>Polygon</span></li><li><details><summary>coordinates: List (1 element)</summary><ul><li><details><summary>0: List (28 elements)</summary><ul><li><details><summary>0: [80.46919176040133, 21.84828419106716]</summary><ul><li><span class='ee-k'>0:</span><span class='ee-v'>80.46919176040133</span></li><li><span class='ee-k'>1:</span><span class='ee-v'>21.84828419106716</span></li></ul></details></li><li><details><summary>1: [80.46937903076744, 21.84706682382996]</summary><ul><li><span class='ee-k'>0:</span><span class='ee-v'>80.46937903076744</span></li><li><span class='ee-k'>1:</span><span class='ee-v'>21.84706682382996</span></li></ul></details></li><li><details><summary>2: [80.4696510684356, 21.84617507176253]</summary><ul><li><span class='ee-k'>0:</span><span class='ee-v'>80.4696510684356</span></li><li><span class='ee-k'>1:</span><span class='ee-v'>21.84617507176253</span></li></ul></details></li><li><details><summary>3: [80.46998105928299, 21.845697889487216]</summary><ul><li><span class='ee-k'>0:</span><span class='ee-v'>80.46998105928299</span></li><li><span class='ee-k'>1:</span><span class='ee-v'>21.845697889487216</span></li></ul></details></li><li><details><summary>4: [80.47074803474439, 21.845006753890566]</summary><ul><li><span class='ee-k'>0:</span><span class='ee-v'>80.47074803474439</span></li><li><span class='ee-k'>1:</span><span class='ee-v'>21.845006753890566</span></li></ul></details></li><li><details><summary>5: [80.47106011765389, 21.84423529512195]</summary><ul><li><span class='ee-k'>0:</span><span class='ee-v'>80.47106011765389</span></li><li><span class='ee-k'>1:</span><span class='ee-v'>21.84423529512195</span></li></ul></details></li><li><details><summary>6: [80.47226406109576, 21.84372249142352]</summary><ul><li><span class='ee-k'>0:</span><span class='ee-v'>80.47226406109576</span></li><li><span class='ee-k'>1:</span><span class='ee-v'>21.84372249142352</span></li></ul></details></li><li><details><summary>7: [80.47342344153573, 21.843120545456767]</summary><ul><li><span class='ee-k'>0:</span><span class='ee-v'>80.47342344153573</span></li><li><span class='ee-k'>1:</span><span class='ee-v'>21.843120545456767</span></li></ul></details></li><li><details><summary>8: [80.47355724779408, 21.84370918789296]</summary><ul><li><span class='ee-k'>0:</span><span class='ee-v'>80.47355724779408</span></li><li><span class='ee-k'>1:</span><span class='ee-v'>21.84370918789296</span></li></ul></details></li><li><details><summary>9: [80.47369546595371, 21.844132735894046]</summary><ul><li><span class='ee-k'>0:</span><span class='ee-v'>80.47369546595371</span></li><li><span class='ee-k'>1:</span><span class='ee-v'>21.844132735894046</span></li></ul></details></li><li><details><summary>10: [80.47349038711617, 21.844404809213955]</summary><ul><li><span class='ee-k'>0:</span><span class='ee-v'>80.47349038711617</span></li><li><span class='ee-k'>1:</span><span class='ee-v'>21.844404809213955</span></li></ul></details></li><li><details><summary>11: [80.47370887199993, 21.844917576007973]</summary><ul><li><span class='ee-k'>0:</span><span class='ee-v'>80.47370887199993</span></li><li><span class='ee-k'>1:</span><span class='ee-v'>21.844917576007973</span></li></ul></details></li><li><details><summary>12: [80.47390953819242, 21.845416971957107]</summary><ul><li><span class='ee-k'>0:</span><span class='ee-v'>80.47390953819242</span></li><li><span class='ee-k'>1:</span><span class='ee-v'>21.845416971957107</span></li></ul></details></li><li><details><summary>13: [80.47388272616263, 21.845751432230585]</summary><ul><li><span class='ee-k'>0:</span><span class='ee-v'>80.47388272616263</span></li><li><span class='ee-k'>1:</span><span class='ee-v'>21.845751432230585</span></li></ul></details></li><li><details><summary>14: [80.47374009620043, 21.846036761211376]</summary><ul><li><span class='ee-k'>0:</span><span class='ee-v'>80.47374009620043</span></li><li><span class='ee-k'>1:</span><span class='ee-v'>21.846036761211376</span></li></ul></details></li><li><details><summary>15: [80.47385599897243, 21.846482702163232]</summary><ul><li><span class='ee-k'>0:</span><span class='ee-v'>80.47385599897243</span></li><li><span class='ee-k'>1:</span><span class='ee-v'>21.846482702163232</span></li></ul></details></li><li><details><summary>16: [80.47426623918234, 21.846950926799945]</summary><ul><li><span class='ee-k'>0:</span><span class='ee-v'>80.47426623918234</span></li><li><span class='ee-k'>1:</span><span class='ee-v'>21.846950926799945</span></li></ul></details></li><li><details><summary>17: [80.47445349810371, 21.847249702712148]</summary><ul><li><span class='ee-k'>0:</span><span class='ee-v'>80.47445349810371</span></li><li><span class='ee-k'>1:</span><span class='ee-v'>21.847249702712148</span></li></ul></details></li><li><details><summary>18: [80.47401203473274, 21.847659916006684]</summary><ul><li><span class='ee-k'>0:</span><span class='ee-v'>80.47401203473274</span></li><li><span class='ee-k'>1:</span><span class='ee-v'>21.847659916006684</span></li></ul></details></li><li><details><summary>19: [80.4732406772808, 21.848159346192634]</summary><ul><li><span class='ee-k'>0:</span><span class='ee-v'>80.4732406772808</span></li><li><span class='ee-k'>1:</span><span class='ee-v'>21.848159346192634</span></li></ul></details></li><li><details><summary>20: [80.47258962938372, 21.848556233078096]</summary><ul><li><span class='ee-k'>0:</span><span class='ee-v'>80.47258962938372</span></li><li><span class='ee-k'>1:</span><span class='ee-v'>21.848556233078096</span></li></ul></details></li><li><details><summary>21: [80.47168444965506, 21.84919829389073]</summary><ul><li><span class='ee-k'>0:</span><span class='ee-v'>80.47168444965506</span></li><li><span class='ee-k'>1:</span><span class='ee-v'>21.84919829389073</span></li></ul></details></li><li><details><summary>22: [80.47103788666433, 21.849648656814928]</summary><ul><li><span class='ee-k'>0:</span><span class='ee-v'>80.47103788666433</span></li><li><span class='ee-k'>1:</span><span class='ee-v'>21.849648656814928</span></li></ul></details></li><li><details><summary>23: [80.47049831666129, 21.850072258659583]</summary><ul><li><span class='ee-k'>0:</span><span class='ee-v'>80.47049831666129</span></li><li><span class='ee-k'>1:</span><span class='ee-v'>21.850072258659583</span></li></ul></details></li><li><details><summary>24: [80.4698071120982, 21.850188246961924]</summary><ul><li><span class='ee-k'>0:</span><span class='ee-v'>80.4698071120982</span></li><li><span class='ee-k'>1:</span><span class='ee-v'>21.850188246961924</span></li></ul></details></li><li><details><summary>25: [80.46918734804505, 21.850544960794217]</summary><ul><li><span class='ee-k'>0:</span><span class='ee-v'>80.46918734804505</span></li><li><span class='ee-k'>1:</span><span class='ee-v'>21.850544960794217</span></li></ul></details></li><li><details><summary>26: [80.46906244432432, 21.849742314087425]</summary><ul><li><span class='ee-k'>0:</span><span class='ee-v'>80.46906244432432</span></li><li><span class='ee-k'>1:</span><span class='ee-v'>21.849742314087425</span></li></ul></details></li><li><details><summary>27: [80.46919176040133, 21.84828419106716]</summary><ul><li><span class='ee-k'>0:</span><span class='ee-v'>80.46919176040133</span></li><li><span class='ee-k'>1:</span><span class='ee-v'>21.84828419106716</span></li></ul></details></li></ul></details></li></ul></details></li></ul></details></li><li><details><summary>properties: Object (4 properties)</summary><ul><li><span class='ee-k'>Area (hect:</span><span class='ee-v'>25.537</span></li><li><span class='ee-k'>Descriptio:</span><span class='ee-v'></span></li><li><span class='ee-k'>Name:</span><span class='ee-v'>4</span></li><li><span class='ee-k'>mean:</span><span class='ee-v'>0.07664926035455327</span></li></ul></details></li></ul></details></li><li><details><summary>4: Feature (Polygon, 4 properties)</summary><ul><li><span class='ee-k'>type:</span><span class='ee-v'>Feature</span></li><li><span class='ee-k'>id:</span><span class='ee-v'>00000000000000000004</span></li><li><details><summary>geometry: Polygon (27 vertices)</summary><ul><li><span class='ee-k'>type:</span><span class='ee-v'>Polygon</span></li><li><details><summary>coordinates: List (1 element)</summary><ul><li><details><summary>0: List (27 elements)</summary><ul><li><details><summary>0: [80.48464705968988, 21.869027924889743]</summary><ul><li><span class='ee-k'>0:</span><span class='ee-v'>80.48464705968988</span></li><li><span class='ee-k'>1:</span><span class='ee-v'>21.869027924889743</span></li></ul></details></li><li><details><summary>1: [80.48526687797204, 21.868755915409903]</summary><ul><li><span class='ee-k'>0:</span><span class='ee-v'>80.48526687797204</span></li><li><span class='ee-k'>1:</span><span class='ee-v'>21.868755915409903</span></li></ul></details></li><li><details><summary>2: [80.48589559939391, 21.868247555089226]</summary><ul><li><span class='ee-k'>0:</span><span class='ee-v'>80.48589559939391</span></li><li><span class='ee-k'>1:</span><span class='ee-v'>21.868247555089226</span></li></ul></details></li><li><details><summary>3: [80.48681860911775, 21.86852852270627]</summary><ul><li><span class='ee-k'>0:</span><span class='ee-v'>80.48681860911775</span></li><li><span class='ee-k'>1:</span><span class='ee-v'>21.86852852270627</span></li></ul></details></li><li><details><summary>4: [80.48741609973149, 21.86825205730152]</summary><ul><li><span class='ee-k'>0:</span><span class='ee-v'>80.48741609973149</span></li><li><span class='ee-k'>1:</span><span class='ee-v'>21.86825205730152</span></li></ul></details></li><li><details><summary>5: [80.48813404988749, 21.8680737091595]</summary><ul><li><span class='ee-k'>0:</span><span class='ee-v'>80.48813404988749</span></li><li><span class='ee-k'>1:</span><span class='ee-v'>21.8680737091595</span></li></ul></details></li><li><details><summary>6: [80.48859774923581, 21.86816288877901]</summary><ul><li><span class='ee-k'>0:</span><span class='ee-v'>80.48859774923581</span></li><li><span class='ee-k'>1:</span><span class='ee-v'>21.86816288877901</span></li></ul></details></li><li><details><summary>7: [80.48860224539315, 21.868327873814437]</summary><ul><li><span class='ee-k'>0:</span><span class='ee-v'>80.48860224539315</span></li><li><span class='ee-k'>1:</span><span class='ee-v'>21.868327873814437</span></li></ul></details></li><li><details><summary>8: [80.48892333826369, 21.86847949270942]</summary><ul><li><span class='ee-k'>0:</span><span class='ee-v'>80.48892333826369</span></li><li><span class='ee-k'>1:</span><span class='ee-v'>21.86847949270942</span></li></ul></details></li><li><details><summary>9: [80.48892774957056, 21.868301063718636]</summary><ul><li><span class='ee-k'>0:</span><span class='ee-v'>80.48892774957056</span></li><li><span class='ee-k'>1:</span><span class='ee-v'>21.868301063718636</span></li></ul></details></li><li><details><summary>10: [80.48911056410056, 21.86789087791251]</summary><ul><li><span class='ee-k'>0:</span><span class='ee-v'>80.48911056410056</span></li><li><span class='ee-k'>1:</span><span class='ee-v'>21.86789087791251</span></li></ul></details></li><li><details><summary>11: [80.48940934410251, 21.867770474613653]</summary><ul><li><span class='ee-k'>0:</span><span class='ee-v'>80.48940934410251</span></li><li><span class='ee-k'>1:</span><span class='ee-v'>21.867770474613653</span></li></ul></details></li><li><details><summary>12: [80.49003811894177, 21.86958085574491]</summary><ul><li><span class='ee-k'>0:</span><span class='ee-v'>80.49003811894177</span></li><li><span class='ee-k'>1:</span><span class='ee-v'>21.86958085574491</span></li></ul></details></li><li><details><summary>13: [80.49016740232993, 21.87043250258708]</summary><ul><li><span class='ee-k'>0:</span><span class='ee-v'>80.49016740232993</span></li><li><span class='ee-k'>1:</span><span class='ee-v'>21.87043250258708</span></li></ul></details></li><li><details><summary>14: [80.4903591214188, 21.870575187169624]</summary><ul><li><span class='ee-k'>0:</span><span class='ee-v'>80.4903591214188</span></li><li><span class='ee-k'>1:</span><span class='ee-v'>21.870575187169624</span></li></ul></details></li><li><details><summary>15: [80.49006484091846, 21.87092308002148]</summary><ul><li><span class='ee-k'>0:</span><span class='ee-v'>80.49006484091846</span></li><li><span class='ee-k'>1:</span><span class='ee-v'>21.87092308002148</span></li></ul></details></li><li><details><summary>16: [80.49014059555473, 21.87115487608458]</summary><ul><li><span class='ee-k'>0:</span><span class='ee-v'>80.49014059555473</span></li><li><span class='ee-k'>1:</span><span class='ee-v'>21.87115487608458</span></li></ul></details></li><li><details><summary>17: [80.49047508580291, 21.87115938663088]</summary><ul><li><span class='ee-k'>0:</span><span class='ee-v'>80.49047508580291</span></li><li><span class='ee-k'>1:</span><span class='ee-v'>21.87115938663088</span></li></ul></details></li><li><details><summary>18: [80.49069802199773, 21.871578571258432]</summary><ul><li><span class='ee-k'>0:</span><span class='ee-v'>80.49069802199773</span></li><li><span class='ee-k'>1:</span><span class='ee-v'>21.871578571258432</span></li></ul></details></li><li><details><summary>19: [80.48625674513909, 21.872800316863252]</summary><ul><li><span class='ee-k'>0:</span><span class='ee-v'>80.48625674513909</span></li><li><span class='ee-k'>1:</span><span class='ee-v'>21.872800316863252</span></li></ul></details></li><li><details><summary>20: [80.48596694637592, 21.872349966496387]</summary><ul><li><span class='ee-k'>0:</span><span class='ee-v'>80.48596694637592</span></li><li><span class='ee-k'>1:</span><span class='ee-v'>21.872349966496387</span></li></ul></details></li><li><details><summary>21: [80.48569487735301, 21.872167137104068]</summary><ul><li><span class='ee-k'>0:</span><span class='ee-v'>80.48569487735301</span></li><li><span class='ee-k'>1:</span><span class='ee-v'>21.872167137104068</span></li></ul></details></li><li><details><summary>22: [80.48580635195304, 21.871145987610547]</summary><ul><li><span class='ee-k'>0:</span><span class='ee-v'>80.48580635195304</span></li><li><span class='ee-k'>1:</span><span class='ee-v'>21.871145987610547</span></li></ul></details></li><li><details><summary>23: [80.4856191186542, 21.871137120626415]</summary><ul><li><span class='ee-k'>0:</span><span class='ee-v'>80.4856191186542</span></li><li><span class='ee-k'>1:</span><span class='ee-v'>21.871137120626415</span></li></ul></details></li><li><details><summary>24: [80.48451327131424, 21.870717929240772]</summary><ul><li><span class='ee-k'>0:</span><span class='ee-v'>80.48451327131424</span></li><li><span class='ee-k'>1:</span><span class='ee-v'>21.870717929240772</span></li></ul></details></li><li><details><summary>25: [80.48449545547115, 21.869545191943946]</summary><ul><li><span class='ee-k'>0:</span><span class='ee-v'>80.48449545547115</span></li><li><span class='ee-k'>1:</span><span class='ee-v'>21.869545191943946</span></li></ul></details></li><li><details><summary>26: [80.48464705968988, 21.869027924889743]</summary><ul><li><span class='ee-k'>0:</span><span class='ee-v'>80.48464705968988</span></li><li><span class='ee-k'>1:</span><span class='ee-v'>21.869027924889743</span></li></ul></details></li></ul></details></li></ul></details></li></ul></details></li><li><details><summary>properties: Object (4 properties)</summary><ul><li><span class='ee-k'>Area (hect:</span><span class='ee-v'>23.165</span></li><li><span class='ee-k'>Descriptio:</span><span class='ee-v'></span></li><li><span class='ee-k'>Name:</span><span class='ee-v'>5</span></li><li><span class='ee-k'>mean:</span><span class='ee-v'>0.04804899765889263</span></li></ul></details></li></ul></details></li><li><details><summary>5: Feature (Polygon, 4 properties)</summary><ul><li><span class='ee-k'>type:</span><span class='ee-v'>Feature</span></li><li><span class='ee-k'>id:</span><span class='ee-v'>00000000000000000005</span></li><li><details><summary>geometry: Polygon (43 vertices)</summary><ul><li><span class='ee-k'>type:</span><span class='ee-v'>Polygon</span></li><li><details><summary>coordinates: List (1 element)</summary><ul><li><details><summary>0: List (43 elements)</summary><ul><li><details><summary>0: [80.42169785760734, 21.841921045346858]</summary><ul><li><span class='ee-k'>0:</span><span class='ee-v'>80.42169785760734</span></li><li><span class='ee-k'>1:</span><span class='ee-v'>21.841921045346858</span></li></ul></details></li><li><details><summary>1: [80.42198771058322, 21.84192992187914]</summary><ul><li><span class='ee-k'>0:</span><span class='ee-v'>80.42198771058322</span></li><li><span class='ee-k'>1:</span><span class='ee-v'>21.84192992187914</span></li></ul></details></li><li><details><summary>2: [80.42224640393829, 21.841831893531346]</summary><ul><li><span class='ee-k'>0:</span><span class='ee-v'>80.42224640393829</span></li><li><span class='ee-k'>1:</span><span class='ee-v'>21.841831893531346</span></li></ul></details></li><li><details><summary>3: [80.4225986569085, 21.841671328343413]</summary><ul><li><span class='ee-k'>0:</span><span class='ee-v'>80.4225986569085</span></li><li><span class='ee-k'>1:</span><span class='ee-v'>21.841671328343413</span></li></ul></details></li><li><details><summary>4: [80.42302672419457, 21.841555432079065]</summary><ul><li><span class='ee-k'>0:</span><span class='ee-v'>80.42302672419457</span></li><li><span class='ee-k'>1:</span><span class='ee-v'>21.841555432079065</span></li></ul></details></li><li><details><summary>5: [80.42308471092694, 21.84172927615592]</summary><ul><li><span class='ee-k'>0:</span><span class='ee-v'>80.42308471092694</span></li><li><span class='ee-k'>1:</span><span class='ee-v'>21.84172927615592</span></li></ul></details></li><li><details><summary>6: [80.42349494680477, 21.841921032649076]</summary><ul><li><span class='ee-k'>0:</span><span class='ee-v'>80.42349494680477</span></li><li><span class='ee-k'>1:</span><span class='ee-v'>21.841921032649076</span></li></ul></details></li><li><details><summary>7: [80.4239764959483, 21.84197007076075]</summary><ul><li><span class='ee-k'>0:</span><span class='ee-v'>80.4239764959483</span></li><li><span class='ee-k'>1:</span><span class='ee-v'>21.84197007076075</span></li></ul></details></li><li><details><summary>8: [80.42400323916375, 21.841724890260085]</summary><ul><li><span class='ee-k'>0:</span><span class='ee-v'>80.42400323916375</span></li><li><span class='ee-k'>1:</span><span class='ee-v'>21.841724890260085</span></li></ul></details></li><li><details><summary>9: [80.42411921123062, 21.84171147547928]</summary><ul><li><span class='ee-k'>0:</span><span class='ee-v'>80.42411921123062</span></li><li><span class='ee-k'>1:</span><span class='ee-v'>21.84171147547928</span></li></ul></details></li><li><details><summary>10: [80.42463199940327, 21.841640132623514]</summary><ul><li><span class='ee-k'>0:</span><span class='ee-v'>80.42463199940327</span></li><li><span class='ee-k'>1:</span><span class='ee-v'>21.841640132623514</span></li></ul></details></li><li><details><summary>11: [80.42478362788486, 21.841519743090462]</summary><ul><li><span class='ee-k'>0:</span><span class='ee-v'>80.42478362788486</span></li><li><span class='ee-k'>1:</span><span class='ee-v'>21.841519743090462</span></li></ul></details></li><li><details><summary>12: [80.42526075490315, 21.841617867255234]</summary><ul><li><span class='ee-k'>0:</span><span class='ee-v'>80.42526075490315</span></li><li><span class='ee-k'>1:</span><span class='ee-v'>21.841617867255234</span></li></ul></details></li><li><details><summary>13: [80.42534539796993, 21.841742655573825]</summary><ul><li><span class='ee-k'>0:</span><span class='ee-v'>80.42534539796993</span></li><li><span class='ee-k'>1:</span><span class='ee-v'>21.841742655573825</span></li></ul></details></li><li><details><summary>14: [80.42573337963408, 21.8421127623965]</summary><ul><li><span class='ee-k'>0:</span><span class='ee-v'>80.42573337963408</span></li><li><span class='ee-k'>1:</span><span class='ee-v'>21.8421127623965</span></li></ul></details></li><li><details><summary>15: [80.42613468830984, 21.842072652448856]</summary><ul><li><span class='ee-k'>0:</span><span class='ee-v'>80.42613468830984</span></li><li><span class='ee-k'>1:</span><span class='ee-v'>21.842072652448856</span></li></ul></details></li><li><details><summary>16: [80.42671436242081, 21.84263447595848]</summary><ul><li><span class='ee-k'>0:</span><span class='ee-v'>80.42671436242081</span></li><li><span class='ee-k'>1:</span><span class='ee-v'>21.84263447595848</span></li></ul></details></li><li><details><summary>17: [80.4270889241586, 21.843477288578132]</summary><ul><li><span class='ee-k'>0:</span><span class='ee-v'>80.4270889241586</span></li><li><span class='ee-k'>1:</span><span class='ee-v'>21.843477288578132</span></li></ul></details></li><li><details><summary>18: [80.42766417707816, 21.843615522886715]</summary><ul><li><span class='ee-k'>0:</span><span class='ee-v'>80.42766417707816</span></li><li><span class='ee-k'>1:</span><span class='ee-v'>21.843615522886715</span></li></ul></details></li><li><details><summary>19: [80.42772216058646, 21.843767124347867]</summary><ul><li><span class='ee-k'>0:</span><span class='ee-v'>80.42772216058646</span></li><li><span class='ee-k'>1:</span><span class='ee-v'>21.843767124347867</span></li></ul></details></li><li><details><summary>20: [80.42808330439964, 21.8438429088486]</summary><ul><li><span class='ee-k'>0:</span><span class='ee-v'>80.42808330439964</span></li><li><span class='ee-k'>1:</span><span class='ee-v'>21.8438429088486</span></li></ul></details></li><li><details><summary>21: [80.42823492660628, 21.843945482700093]</summary><ul><li><span class='ee-k'>0:</span><span class='ee-v'>80.42823492660628</span></li><li><span class='ee-k'>1:</span><span class='ee-v'>21.843945482700093</span></li></ul></details></li><li><details><summary>22: [80.42798966523956, 21.844208556814383]</summary><ul><li><span class='ee-k'>0:</span><span class='ee-v'>80.42798966523956</span></li><li><span class='ee-k'>1:</span><span class='ee-v'>21.844208556814383</span></li></ul></details></li><li><details><summary>23: [80.4280521479546, 21.844462718679356]</summary><ul><li><span class='ee-k'>0:</span><span class='ee-v'>80.4280521479546</span></li><li><span class='ee-k'>1:</span><span class='ee-v'>21.844462718679356</span></li></ul></details></li><li><details><summary>24: [80.42832415096747, 21.845225266316156]</summary><ul><li><span class='ee-k'>0:</span><span class='ee-v'>80.42832415096747</span></li><li><span class='ee-k'>1:</span><span class='ee-v'>21.845225266316156</span></li></ul></details></li><li><details><summary>25: [80.4285693264559, 21.845898541757094]</summary><ul><li><span class='ee-k'>0:</span><span class='ee-v'>80.4285693264559</span></li><li><span class='ee-k'>1:</span><span class='ee-v'>21.845898541757094</span></li></ul></details></li><li><details><summary>26: [80.42812795912073, 21.845885172470343]</summary><ul><li><span class='ee-k'>0:</span><span class='ee-v'>80.42812795912073</span></li><li><span class='ee-k'>1:</span><span class='ee-v'>21.845885172470343</span></li></ul></details></li><li><details><summary>27: [80.42797183728239, 21.846326605926734]</summary><ul><li><span class='ee-k'>0:</span><span class='ee-v'>80.42797183728239</span></li><li><span class='ee-k'>1:</span><span class='ee-v'>21.846326605926734</span></li></ul></details></li><li><details><summary>28: [80.42691947168598, 21.846701244110047]</summary><ul><li><span class='ee-k'>0:</span><span class='ee-v'>80.42691947168598</span></li><li><span class='ee-k'>1:</span><span class='ee-v'>21.846701244110047</span></li></ul></details></li><li><details><summary>29: [80.42545695349543, 21.846455931109674]</summary><ul><li><span class='ee-k'>0:</span><span class='ee-v'>80.42545695349543</span></li><li><span class='ee-k'>1:</span><span class='ee-v'>21.846455931109674</span></li></ul></details></li><li><details><summary>30: [80.4242350982374, 21.84638906175775]</summary><ul><li><span class='ee-k'>0:</span><span class='ee-v'>80.4242350982374</span></li><li><span class='ee-k'>1:</span><span class='ee-v'>21.84638906175775</span></li></ul></details></li><li><details><summary>31: [80.423450289603, 21.84628650802345]</summary><ul><li><span class='ee-k'>0:</span><span class='ee-v'>80.423450289603</span></li><li><span class='ee-k'>1:</span><span class='ee-v'>21.84628650802345</span></li></ul></details></li><li><details><summary>32: [80.42277703269468, 21.846192883105047]</summary><ul><li><span class='ee-k'>0:</span><span class='ee-v'>80.42277703269468</span></li><li><span class='ee-k'>1:</span><span class='ee-v'>21.846192883105047</span></li></ul></details></li><li><details><summary>33: [80.4225094264221, 21.846010064103456]</summary><ul><li><span class='ee-k'>0:</span><span class='ee-v'>80.4225094264221</span></li><li><span class='ee-k'>1:</span><span class='ee-v'>21.846010064103456</span></li></ul></details></li><li><details><summary>34: [80.4225584989564, 21.845635523334828]</summary><ul><li><span class='ee-k'>0:</span><span class='ee-v'>80.4225584989564</span></li><li><span class='ee-k'>1:</span><span class='ee-v'>21.845635523334828</span></li></ul></details></li><li><details><summary>35: [80.42214384362306, 21.844663399241508]</summary><ul><li><span class='ee-k'>0:</span><span class='ee-v'>80.42214384362306</span></li><li><span class='ee-k'>1:</span><span class='ee-v'>21.844663399241508</span></li></ul></details></li><li><details><summary>36: [80.42199221034322, 21.844105976606922]</summary><ul><li><span class='ee-k'>0:</span><span class='ee-v'>80.42199221034322</span></li><li><span class='ee-k'>1:</span><span class='ee-v'>21.844105976606922</span></li></ul></details></li><li><details><summary>37: [80.42285726346893, 21.843713610445835]</summary><ul><li><span class='ee-k'>0:</span><span class='ee-v'>80.42285726346893</span></li><li><span class='ee-k'>1:</span><span class='ee-v'>21.843713610445835</span></li></ul></details></li><li><details><summary>38: [80.4225584989564, 21.84331672869651]</summary><ul><li><span class='ee-k'>0:</span><span class='ee-v'>80.4225584989564</span></li><li><span class='ee-k'>1:</span><span class='ee-v'>21.84331672869651</span></li></ul></details></li><li><details><summary>39: [80.42211260005827, 21.842968904845034]</summary><ul><li><span class='ee-k'>0:</span><span class='ee-v'>80.42211260005827</span></li><li><span class='ee-k'>1:</span><span class='ee-v'>21.842968904845034</span></li></ul></details></li><li><details><summary>40: [80.4218049182409, 21.842607793309735]</summary><ul><li><span class='ee-k'>0:</span><span class='ee-v'>80.4218049182409</span></li><li><span class='ee-k'>1:</span><span class='ee-v'>21.842607793309735</span></li></ul></details></li><li><details><summary>41: [80.42159088173794, 21.84198351950489]</summary><ul><li><span class='ee-k'>0:</span><span class='ee-v'>80.42159088173794</span></li><li><span class='ee-k'>1:</span><span class='ee-v'>21.84198351950489</span></li></ul></details></li><li><details><summary>42: [80.42169785760734, 21.841921045346858]</summary><ul><li><span class='ee-k'>0:</span><span class='ee-v'>80.42169785760734</span></li><li><span class='ee-k'>1:</span><span class='ee-v'>21.841921045346858</span></li></ul></details></li></ul></details></li></ul></details></li></ul></details></li><li><details><summary>properties: Object (4 properties)</summary><ul><li><span class='ee-k'>Area (hect:</span><span class='ee-v'>28.35</span></li><li><span class='ee-k'>Descriptio:</span><span class='ee-v'></span></li><li><span class='ee-k'>Name:</span><span class='ee-v'>6</span></li><li><span class='ee-k'>mean:</span><span class='ee-v'>0.10690307715868375</span></li></ul></details></li></ul></details></li></ul></details></li></ul></details></li></ul></div></div>"
      ],
      "text/plain": [
       "<ee.featurecollection.FeatureCollection at 0x285e8274b50>"
      ]
     },
     "metadata": {},
     "output_type": "display_data"
    }
   ],
   "source": [
    "zonal_stats = ndviClasses.reduceRegions(\n",
    "  collection = roi, \n",
    "  reducer = ee.Reducer.mean(),\n",
    "  scale = 1\n",
    ");\n",
    "\n",
    "display(zonal_stats)"
   ]
  },
  {
   "cell_type": "markdown",
   "id": "b88cc845",
   "metadata": {},
   "source": [
    "Mapping the function to add canopy height percentage and status of parcel land"
   ]
  },
  {
   "cell_type": "code",
   "execution_count": 11,
   "id": "266a9a56",
   "metadata": {},
   "outputs": [
    {
     "data": {
      "text/html": [
       "\n",
       "            <style>\n",
       "                .geemap-dark {\n",
       "                    --jp-widgets-color: white;\n",
       "                    --jp-widgets-label-color: white;\n",
       "                    --jp-ui-font-color1: white;\n",
       "                    --jp-layout-color2: #454545;\n",
       "                    background-color: #383838;\n",
       "                }\n",
       "\n",
       "                .geemap-dark .jupyter-button {\n",
       "                    --jp-layout-color3: #383838;\n",
       "                }\n",
       "\n",
       "                .geemap-colab {\n",
       "                    background-color: var(--colab-primary-surface-color, white);\n",
       "                }\n",
       "\n",
       "                .geemap-colab .jupyter-button {\n",
       "                    --jp-layout-color3: var(--colab-primary-surface-color, white);\n",
       "                }\n",
       "            </style>\n",
       "            "
      ],
      "text/plain": [
       "<IPython.core.display.HTML object>"
      ]
     },
     "metadata": {},
     "output_type": "display_data"
    }
   ],
   "source": [
    "def status(feature):\n",
    "\n",
    "    canopy = ee.Number(feature.get('mean')).multiply(100)\n",
    "    status = canopy.lt(10).multiply(1)\n",
    "\n",
    "    statusText = ee.Algorithms.If(status.eq(1), 'Accepted', 'Rejected')\n",
    "\n",
    "    return feature.set({\n",
    "\n",
    "        'canopy_cover': canopy,\n",
    "        'status': statusText\n",
    "    })\n",
    "\n",
    "    \n",
    "\n",
    "final = zonal_stats.map(status)"
   ]
  },
  {
   "cell_type": "markdown",
   "id": "60226651",
   "metadata": {},
   "source": [
    "Exporting the final FeatureCollection with canopy height and status"
   ]
  },
  {
   "cell_type": "code",
   "execution_count": 12,
   "id": "f86256d0",
   "metadata": {},
   "outputs": [
    {
     "data": {
      "text/html": [
       "\n",
       "            <style>\n",
       "                .geemap-dark {\n",
       "                    --jp-widgets-color: white;\n",
       "                    --jp-widgets-label-color: white;\n",
       "                    --jp-ui-font-color1: white;\n",
       "                    --jp-layout-color2: #454545;\n",
       "                    background-color: #383838;\n",
       "                }\n",
       "\n",
       "                .geemap-dark .jupyter-button {\n",
       "                    --jp-layout-color3: #383838;\n",
       "                }\n",
       "\n",
       "                .geemap-colab {\n",
       "                    background-color: var(--colab-primary-surface-color, white);\n",
       "                }\n",
       "\n",
       "                .geemap-colab .jupyter-button {\n",
       "                    --jp-layout-color3: var(--colab-primary-surface-color, white);\n",
       "                }\n",
       "            </style>\n",
       "            "
      ],
      "text/plain": [
       "<IPython.core.display.HTML object>"
      ]
     },
     "metadata": {},
     "output_type": "display_data"
    }
   ],
   "source": [
    "task = ee.batch.Export.table.toDrive(\n",
    "    collection=final, description='parcels_status_python_GEE', fileFormat='GeoJSON'\n",
    ")\n",
    "task.start()"
   ]
  },
  {
   "cell_type": "markdown",
   "id": "b258bb37",
   "metadata": {},
   "source": [
    "Visualise the Map Interactively"
   ]
  },
  {
   "cell_type": "code",
   "execution_count": 13,
   "id": "88e63c04",
   "metadata": {},
   "outputs": [
    {
     "data": {
      "text/html": [
       "\n",
       "            <style>\n",
       "                .geemap-dark {\n",
       "                    --jp-widgets-color: white;\n",
       "                    --jp-widgets-label-color: white;\n",
       "                    --jp-ui-font-color1: white;\n",
       "                    --jp-layout-color2: #454545;\n",
       "                    background-color: #383838;\n",
       "                }\n",
       "\n",
       "                .geemap-dark .jupyter-button {\n",
       "                    --jp-layout-color3: #383838;\n",
       "                }\n",
       "\n",
       "                .geemap-colab {\n",
       "                    background-color: var(--colab-primary-surface-color, white);\n",
       "                }\n",
       "\n",
       "                .geemap-colab .jupyter-button {\n",
       "                    --jp-layout-color3: var(--colab-primary-surface-color, white);\n",
       "                }\n",
       "            </style>\n",
       "            "
      ],
      "text/plain": [
       "<IPython.core.display.HTML object>"
      ]
     },
     "metadata": {},
     "output_type": "display_data"
    },
    {
     "data": {
      "application/vnd.jupyter.widget-view+json": {
       "model_id": "617596b0f90748b999c4a44a7bcc283c",
       "version_major": 2,
       "version_minor": 0
      },
      "text/plain": [
       "Map(center=[21.84673095422765, 80.42928627463107], controls=(WidgetControl(options=['position', 'transparent_b…"
      ]
     },
     "metadata": {},
     "output_type": "display_data"
    }
   ],
   "source": [
    "import geemap\n",
    "\n",
    "m = geemap.Map()\n",
    "\n",
    "m.centerObject(roi, 20)\n",
    "\n",
    "m.add_layer(roi)\n",
    "m.add_layer(ndviClasses, {\n",
    "  'min': 0,\n",
    "  'max': 1,\n",
    "  'palette': ['ffe595', '#008000']\n",
    "}, 'Binary classification')\n",
    "\n",
    "\n",
    "display(m)"
   ]
  }
 ],
 "metadata": {
  "kernelspec": {
   "display_name": "nikhil_geospatial",
   "language": "python",
   "name": "python3"
  },
  "language_info": {
   "codemirror_mode": {
    "name": "ipython",
    "version": 3
   },
   "file_extension": ".py",
   "mimetype": "text/x-python",
   "name": "python",
   "nbconvert_exporter": "python",
   "pygments_lexer": "ipython3",
   "version": "3.13.5"
  }
 },
 "nbformat": 4,
 "nbformat_minor": 5
}
